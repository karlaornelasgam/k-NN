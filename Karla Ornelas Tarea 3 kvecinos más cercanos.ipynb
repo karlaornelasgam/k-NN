{
 "cells": [
  {
   "cell_type": "markdown",
   "id": "f18cbb84-8c34-47e6-9d11-6ed27f19608d",
   "metadata": {},
   "source": [
    "# <center> <span style=\"color:indigo\">        Escuela de ML y DL Módulo 1</span> </center> \n",
    "##  <center> <span style=\"color:DarkBlue\">       Tarea 3: k-vecinos más cercanos (k - Nearest Neighbors) </span>  </center>\n",
    "##  <center> <span style=\"color:DarkBlue\"> Karla Guadalupe Ornelas Gamero</span>  </center>\n",
    "##  <center> <span style=\"color:DarkBlue\">karla.gameroo@gmail.com</span>  </center>\n",
    "##  <center> <span style=\"color:DarkBlue\"> Abril 2024</span>  </center>\n",
    "\n",
    "##  Contenido\n",
    "1. <span style=\"color:DarkBlue\">Planteamiento del problema (qué hacer)</span>\n",
    "2. <span style=\"color:DarkBlue\">Planteamiento de la solución (cómo se hizó)</span>\n",
    "3. <span style=\"color:DarkBlue\">Ejemplo de ejecución (código)</span>\n",
    "4. <span style=\"color:DarkBlue\">Conclusiones </span>\n",
    "5. <span style=\"color:DarkBlue\">Referencias</span>\n",
    "\n",
    "\n",
    "## <span style=\"color:DarkBlue\"> 1. Planteamiento del problema</span>\n",
    "Haciendo uso del notebook presentado en la Sesión kNN (P3-KNN.ipynb) y del conjunto de datos de pozos profundos en Michoacán, crea y entrena un modelo de k-NN con una k óptima. Emplea el método GridSearchCV para encontrar dicha k. Por último, compara los resultados con los obtenidos en la sesión del Módulo I, presentando las gráficas que consideres apropiadas para mostrar los resultados de cada método.\n",
    "\n",
    "## <span style=\"color:DarkciónBlue\"> 2. Planteamiento de la solución</span>\n",
    "Aplicar la funcion GridSearchCV() para poder encontrar dicha k, analizar los resultados. \n",
    "\n",
    "El código es:\n",
    "\n",
    "\n",
    "\n",
    "# k - Nearest Neighbors"
   ]
  },
  {
   "cell_type": "code",
   "execution_count": 197,
   "id": "7f05c2bd-f830-4e7f-a2fd-9ae1bf98314f",
   "metadata": {},
   "outputs": [],
   "source": [
    "%matplotlib inline\n",
    "\n",
    "import os\n",
    "import zipfile\n",
    "import numpy as np\n",
    "import pandas as pd\n",
    "import seaborn as sns\n",
    "import matplotlib.pyplot as plt\n",
    "\n",
    "from sklearn.model_selection import GridSearchCV, train_test_split, cross_val_score\n",
    "from sklearn.preprocessing import LabelEncoder, MinMaxScaler\n",
    "from sklearn.neighbors import KNeighborsClassifier\n",
    "from sklearn.metrics import (confusion_matrix, ConfusionMatrixDisplay, accuracy_score,\n",
    "                             precision_score, recall_score, f1_score, classification_report)"
   ]
  },
  {
   "cell_type": "code",
   "execution_count": 198,
   "id": "56b235fe-8e4d-4a23-a978-6170a71b9915",
   "metadata": {},
   "outputs": [],
   "source": [
    "PATH = \"./Datasets/\""
   ]
  },
  {
   "cell_type": "markdown",
   "id": "0e550c3d-28e8-4be8-9962-66058d4e2f81",
   "metadata": {},
   "source": [
    "### Instalar las siguientes librerías para leer el archivo en formato ```.xlsx```\n",
    "\n",
    "- ```conda install xlrd```\n",
    "- ```conda install openpyxl```"
   ]
  },
  {
   "cell_type": "markdown",
   "id": "ec735b6f-314e-49d1-bf2d-03dc167acf93",
   "metadata": {},
   "source": [
    "---\n",
    "\n",
    "# Contenido\n",
    "## &nbsp;&nbsp;1. Preparar los datos.\n",
    "## &nbsp;&nbsp;2. Análisis Exploratorio de Datos (EDA).\n",
    "## &nbsp;&nbsp;3. Dividir los datos en la matriz $X$ y el vector de etiquetas $y$.\n",
    "## &nbsp;&nbsp;4. Codificar los datos categóricos y escalar los que son numéricos.\n",
    "## &nbsp;&nbsp;5. Construir el modelo.\n",
    "## &nbsp;&nbsp;6. Análisis del desempeño del modelo.\n",
    "## &nbsp;&nbsp;7. Encontrar el valor _óptimo_ de $k$.\n",
    "\n",
    "---\n",
    "\n",
    "## 1. Preparar los datos."
   ]
  },
  {
   "cell_type": "code",
   "execution_count": 199,
   "id": "fa5f5ef9-ed2e-4d24-9c14-415e160c995b",
   "metadata": {},
   "outputs": [],
   "source": [
    "pozos = pd.read_excel(PATH + 'Pozos_Michoacan.xlsx')"
   ]
  },
  {
   "cell_type": "code",
   "execution_count": 200,
   "id": "c9570121-1981-4d1d-9b10-9f9cfdc552c2",
   "metadata": {},
   "outputs": [
    {
     "data": {
      "text/html": [
       "<div>\n",
       "<style scoped>\n",
       "    .dataframe tbody tr th:only-of-type {\n",
       "        vertical-align: middle;\n",
       "    }\n",
       "\n",
       "    .dataframe tbody tr th {\n",
       "        vertical-align: top;\n",
       "    }\n",
       "\n",
       "    .dataframe thead th {\n",
       "        text-align: right;\n",
       "    }\n",
       "</style>\n",
       "<table border=\"1\" class=\"dataframe\">\n",
       "  <thead>\n",
       "    <tr style=\"text-align: right;\">\n",
       "      <th></th>\n",
       "      <th>#</th>\n",
       "      <th>Título</th>\n",
       "      <th>Latitud</th>\n",
       "      <th>Longitud</th>\n",
       "      <th>Estado</th>\n",
       "      <th>Municipio</th>\n",
       "      <th>RegiónHidrológica</th>\n",
       "      <th>Cuenca</th>\n",
       "      <th>AcuíferoHomologado</th>\n",
       "      <th>Volumen (m3/año)</th>\n",
       "      <th>Uso</th>\n",
       "    </tr>\n",
       "  </thead>\n",
       "  <tbody>\n",
       "    <tr>\n",
       "      <th>0</th>\n",
       "      <td>1</td>\n",
       "      <td>837156</td>\n",
       "      <td>19°58'36.0006\"</td>\n",
       "      <td>-101°16'41.0007\"</td>\n",
       "      <td>MICHOACÁN DE OCAMPO</td>\n",
       "      <td>HUANDACAREO</td>\n",
       "      <td>LERMA-SANTIAGO</td>\n",
       "      <td>188</td>\n",
       "      <td>1602  - MORELIA-QUERENDARO</td>\n",
       "      <td>22,800.00</td>\n",
       "      <td>AGRICOLA</td>\n",
       "    </tr>\n",
       "    <tr>\n",
       "      <th>1</th>\n",
       "      <td>2</td>\n",
       "      <td>836988</td>\n",
       "      <td>19°59'22.0004\"</td>\n",
       "      <td>-101°16'30.0003\"</td>\n",
       "      <td>MICHOACÁN DE OCAMPO</td>\n",
       "      <td>HUANDACAREO</td>\n",
       "      <td>LERMA-SANTIAGO</td>\n",
       "      <td>188</td>\n",
       "      <td>1602  - MORELIA-QUERENDARO</td>\n",
       "      <td>9,000.00</td>\n",
       "      <td>AGRICOLA</td>\n",
       "    </tr>\n",
       "    <tr>\n",
       "      <th>2</th>\n",
       "      <td>3</td>\n",
       "      <td>836992</td>\n",
       "      <td>20°02'22.0006\"</td>\n",
       "      <td>-101°09'00.0005\"</td>\n",
       "      <td>MICHOACÁN DE OCAMPO</td>\n",
       "      <td>CUITZEO</td>\n",
       "      <td>LERMA-SANTIAGO</td>\n",
       "      <td>188</td>\n",
       "      <td>1602  - MORELIA-QUERENDARO</td>\n",
       "      <td>20,020.00</td>\n",
       "      <td>AGRICOLA</td>\n",
       "    </tr>\n",
       "    <tr>\n",
       "      <th>3</th>\n",
       "      <td>4</td>\n",
       "      <td>836822</td>\n",
       "      <td>20°01'50.0005\"</td>\n",
       "      <td>-101°09'38.0006\"</td>\n",
       "      <td>MICHOACÁN DE OCAMPO</td>\n",
       "      <td>CUITZEO</td>\n",
       "      <td>LERMA-SANTIAGO</td>\n",
       "      <td>188</td>\n",
       "      <td>1602  - MORELIA-QUERENDARO</td>\n",
       "      <td>6,000.00</td>\n",
       "      <td>AGRICOLA</td>\n",
       "    </tr>\n",
       "    <tr>\n",
       "      <th>4</th>\n",
       "      <td>5</td>\n",
       "      <td>835739</td>\n",
       "      <td>19°49'11.0005\"</td>\n",
       "      <td>-101°08'37.0006\"</td>\n",
       "      <td>MICHOACÁN DE OCAMPO</td>\n",
       "      <td>TARÍMBARO</td>\n",
       "      <td>LERMA-SANTIAGO</td>\n",
       "      <td>188</td>\n",
       "      <td>1602  - MORELIA-QUERENDARO</td>\n",
       "      <td>30,000.00</td>\n",
       "      <td>SERVICIOS</td>\n",
       "    </tr>\n",
       "  </tbody>\n",
       "</table>\n",
       "</div>"
      ],
      "text/plain": [
       "   #  Título         Latitud          Longitud               Estado  \\\n",
       "0  1  837156  19°58'36.0006\"  -101°16'41.0007\"  MICHOACÁN DE OCAMPO   \n",
       "1  2  836988  19°59'22.0004\"  -101°16'30.0003\"  MICHOACÁN DE OCAMPO   \n",
       "2  3  836992  20°02'22.0006\"  -101°09'00.0005\"  MICHOACÁN DE OCAMPO   \n",
       "3  4  836822  20°01'50.0005\"  -101°09'38.0006\"  MICHOACÁN DE OCAMPO   \n",
       "4  5  835739  19°49'11.0005\"  -101°08'37.0006\"  MICHOACÁN DE OCAMPO   \n",
       "\n",
       "     Municipio RegiónHidrológica  Cuenca          AcuíferoHomologado  \\\n",
       "0  HUANDACAREO    LERMA-SANTIAGO     188  1602  - MORELIA-QUERENDARO   \n",
       "1  HUANDACAREO    LERMA-SANTIAGO     188  1602  - MORELIA-QUERENDARO   \n",
       "2      CUITZEO    LERMA-SANTIAGO     188  1602  - MORELIA-QUERENDARO   \n",
       "3      CUITZEO    LERMA-SANTIAGO     188  1602  - MORELIA-QUERENDARO   \n",
       "4    TARÍMBARO    LERMA-SANTIAGO     188  1602  - MORELIA-QUERENDARO   \n",
       "\n",
       "   Volumen (m3/año)        Uso  \n",
       "0         22,800.00   AGRICOLA  \n",
       "1          9,000.00   AGRICOLA  \n",
       "2         20,020.00   AGRICOLA  \n",
       "3          6,000.00   AGRICOLA  \n",
       "4         30,000.00  SERVICIOS  "
      ]
     },
     "execution_count": 200,
     "metadata": {},
     "output_type": "execute_result"
    }
   ],
   "source": [
    "pozos.head()"
   ]
  },
  {
   "cell_type": "code",
   "execution_count": 201,
   "id": "c950420e-da29-4b05-b784-f4c834813a09",
   "metadata": {},
   "outputs": [
    {
     "name": "stdout",
     "output_type": "stream",
     "text": [
      "<class 'pandas.core.frame.DataFrame'>\n",
      "RangeIndex: 1363 entries, 0 to 1362\n",
      "Data columns (total 11 columns):\n",
      " #   Column              Non-Null Count  Dtype  \n",
      "---  ------              --------------  -----  \n",
      " 0   #                   1363 non-null   int64  \n",
      " 1   Título              1363 non-null   object \n",
      " 2   Latitud             1363 non-null   object \n",
      " 3   Longitud            1363 non-null   object \n",
      " 4   Estado              1363 non-null   object \n",
      " 5   Municipio           1363 non-null   object \n",
      " 6   RegiónHidrológica   1363 non-null   object \n",
      " 7   Cuenca              1363 non-null   int64  \n",
      " 8   AcuíferoHomologado  1363 non-null   object \n",
      " 9   Volumen (m3/año)    1363 non-null   float64\n",
      " 10  Uso                 1363 non-null   object \n",
      "dtypes: float64(1), int64(2), object(8)\n",
      "memory usage: 117.3+ KB\n"
     ]
    }
   ],
   "source": [
    "pozos.info()"
   ]
  },
  {
   "cell_type": "markdown",
   "id": "ead3c0b9-aef7-47b9-aee7-49fb24d10463",
   "metadata": {},
   "source": [
    "> Como no existen registros vacíos, se procede a trabajar con los datos."
   ]
  },
  {
   "cell_type": "markdown",
   "id": "dda45612-2c45-46f7-83c6-03561832d3ba",
   "metadata": {},
   "source": [
    "### Modificar el tipo de las columnas ```object```"
   ]
  },
  {
   "cell_type": "code",
   "execution_count": 202,
   "id": "52572d92-d88a-457b-8ab8-b842bb0c3ffe",
   "metadata": {},
   "outputs": [
    {
     "name": "stdout",
     "output_type": "stream",
     "text": [
      "<class 'pandas.core.frame.DataFrame'>\n",
      "RangeIndex: 1363 entries, 0 to 1362\n",
      "Data columns (total 11 columns):\n",
      " #   Column              Non-Null Count  Dtype  \n",
      "---  ------              --------------  -----  \n",
      " 0   #                   1363 non-null   int64  \n",
      " 1   Título              1363 non-null   string \n",
      " 2   Latitud             1363 non-null   string \n",
      " 3   Longitud            1363 non-null   string \n",
      " 4   Estado              1363 non-null   string \n",
      " 5   Municipio           1363 non-null   string \n",
      " 6   RegiónHidrológica   1363 non-null   string \n",
      " 7   Cuenca              1363 non-null   int64  \n",
      " 8   AcuíferoHomologado  1363 non-null   string \n",
      " 9   Volumen (m3/año)    1363 non-null   float64\n",
      " 10  Uso                 1363 non-null   string \n",
      "dtypes: float64(1), int64(2), string(8)\n",
      "memory usage: 117.3 KB\n"
     ]
    }
   ],
   "source": [
    "cols = ['Título', 'Latitud', 'Longitud', 'Estado', 'Municipio', 'RegiónHidrológica', 'AcuíferoHomologado', 'Uso']\n",
    "pozos[cols] = pozos[cols].astype('string')\n",
    "\n",
    "pozos.info()"
   ]
  },
  {
   "cell_type": "code",
   "execution_count": 203,
   "id": "b6ecf661-c8a6-4a5c-b05c-c858783e4f21",
   "metadata": {},
   "outputs": [
    {
     "data": {
      "text/html": [
       "<div>\n",
       "<style scoped>\n",
       "    .dataframe tbody tr th:only-of-type {\n",
       "        vertical-align: middle;\n",
       "    }\n",
       "\n",
       "    .dataframe tbody tr th {\n",
       "        vertical-align: top;\n",
       "    }\n",
       "\n",
       "    .dataframe thead th {\n",
       "        text-align: right;\n",
       "    }\n",
       "</style>\n",
       "<table border=\"1\" class=\"dataframe\">\n",
       "  <thead>\n",
       "    <tr style=\"text-align: right;\">\n",
       "      <th></th>\n",
       "      <th>#</th>\n",
       "      <th>Cuenca</th>\n",
       "      <th>Volumen (m3/año)</th>\n",
       "    </tr>\n",
       "  </thead>\n",
       "  <tbody>\n",
       "    <tr>\n",
       "      <th>count</th>\n",
       "      <td>1,363.00</td>\n",
       "      <td>1,363.00</td>\n",
       "      <td>1,363.00</td>\n",
       "    </tr>\n",
       "    <tr>\n",
       "      <th>mean</th>\n",
       "      <td>682.00</td>\n",
       "      <td>28.55</td>\n",
       "      <td>155,836.62</td>\n",
       "    </tr>\n",
       "    <tr>\n",
       "      <th>std</th>\n",
       "      <td>393.61</td>\n",
       "      <td>67.49</td>\n",
       "      <td>388,446.52</td>\n",
       "    </tr>\n",
       "    <tr>\n",
       "      <th>min</th>\n",
       "      <td>1.00</td>\n",
       "      <td>0.00</td>\n",
       "      <td>0.00</td>\n",
       "    </tr>\n",
       "    <tr>\n",
       "      <th>25%</th>\n",
       "      <td>341.50</td>\n",
       "      <td>0.00</td>\n",
       "      <td>15,000.00</td>\n",
       "    </tr>\n",
       "    <tr>\n",
       "      <th>50%</th>\n",
       "      <td>682.00</td>\n",
       "      <td>0.00</td>\n",
       "      <td>46,680.00</td>\n",
       "    </tr>\n",
       "    <tr>\n",
       "      <th>75%</th>\n",
       "      <td>1,022.50</td>\n",
       "      <td>0.00</td>\n",
       "      <td>162,180.00</td>\n",
       "    </tr>\n",
       "    <tr>\n",
       "      <th>max</th>\n",
       "      <td>1,363.00</td>\n",
       "      <td>188.00</td>\n",
       "      <td>11,037,600.00</td>\n",
       "    </tr>\n",
       "  </tbody>\n",
       "</table>\n",
       "</div>"
      ],
      "text/plain": [
       "             #   Cuenca  Volumen (m3/año)\n",
       "count 1,363.00 1,363.00          1,363.00\n",
       "mean    682.00    28.55        155,836.62\n",
       "std     393.61    67.49        388,446.52\n",
       "min       1.00     0.00              0.00\n",
       "25%     341.50     0.00         15,000.00\n",
       "50%     682.00     0.00         46,680.00\n",
       "75%   1,022.50     0.00        162,180.00\n",
       "max   1,363.00   188.00     11,037,600.00"
      ]
     },
     "execution_count": 203,
     "metadata": {},
     "output_type": "execute_result"
    }
   ],
   "source": [
    "pozos.describe()"
   ]
  },
  {
   "cell_type": "code",
   "execution_count": 204,
   "id": "f7eeefd8-1176-433b-a00a-f1386c841807",
   "metadata": {},
   "outputs": [
    {
     "name": "stdout",
     "output_type": "stream",
     "text": [
      "Título\n",
      "08MCH100302/12HSDL07    41\n",
      "08MCH100312/12FVGC16    40\n",
      "04MCH100310/18FVGC16    30\n",
      "MCH123712                4\n",
      "08MCH105205/12FMDL17     3\n",
      "                        ..\n",
      "4MCH103399/12HMGE95      1\n",
      "4MCH104989/12AMGE96      1\n",
      "4MCH105007/12HMGE96      1\n",
      "MCH104683                1\n",
      "MCH109820                1\n",
      "Name: count, Length: 1205, dtype: Int64\n"
     ]
    }
   ],
   "source": [
    "\n",
    "\n",
    "# Correct value counts code\n",
    "print(pozos['Título'].value_counts())"
   ]
  },
  {
   "cell_type": "markdown",
   "id": "0cbf660f-5d4f-4e76-92f4-9e8e46450f97",
   "metadata": {},
   "source": [
    "---\n",
    "\n",
    "# 2. EDA."
   ]
  },
  {
   "cell_type": "code",
   "execution_count": 205,
   "id": "91f1c9ca-8cb2-4058-90f8-a2db25c6bb3e",
   "metadata": {},
   "outputs": [
    {
     "data": {
      "text/plain": [
       "<StringArray>\n",
       "[       'AGRICOLA',       'SERVICIOS',      'INDUSTRIAL',  'PUBLICO URBANO',\n",
       " 'DIFERENTES USOS',        'PECUARIO',       'DOMESTICO',     'ACUACULTURA',\n",
       "   'AGROINDUSTIAL']\n",
       "Length: 9, dtype: string"
      ]
     },
     "execution_count": 205,
     "metadata": {},
     "output_type": "execute_result"
    }
   ],
   "source": [
    "pozos['Uso'].unique()"
   ]
  },
  {
   "cell_type": "code",
   "execution_count": 206,
   "id": "f1186dd2-f59d-4fae-943a-146969a5c1c8",
   "metadata": {},
   "outputs": [
    {
     "data": {
      "image/png": "[encoded data removed]",
      "text/plain": [
       "<Figure size 640x480 with 1 Axes>"
      ]
     },
     "metadata": {},
     "output_type": "display_data"
    }
   ],
   "source": [
    "sns.countplot(data=pozos, x='Uso', palette='rocket')\n",
    "plt.xticks(rotation=45, ha='right')\n",
    "plt.show()"
   ]
  },
  {
   "cell_type": "code",
   "execution_count": 207,
   "id": "2c7965da-42b4-4807-ba07-d0b3f808b8d0",
   "metadata": {},
   "outputs": [
    {
     "data": {
      "text/plain": [
       "Uso\n",
       "AGRICOLA           745\n",
       "PUBLICO URBANO     296\n",
       "INDUSTRIAL         107\n",
       "DIFERENTES USOS     91\n",
       "SERVICIOS           87\n",
       "DOMESTICO           23\n",
       "PECUARIO            11\n",
       "ACUACULTURA          2\n",
       "AGROINDUSTIAL        1\n",
       "Name: count, dtype: Int64"
      ]
     },
     "execution_count": 207,
     "metadata": {},
     "output_type": "execute_result"
    }
   ],
   "source": [
    "pozos['Uso'].value_counts()  # no unir diferentes usos"
   ]
  },
  {
   "cell_type": "code",
   "execution_count": 208,
   "id": "5ed85eef-083c-4b14-a4ac-9ccd2ca027d5",
   "metadata": {},
   "outputs": [
    {
     "data": {
      "text/plain": [
       "(1363, 11)"
      ]
     },
     "execution_count": 208,
     "metadata": {},
     "output_type": "execute_result"
    }
   ],
   "source": [
    "pozos.shape"
   ]
  },
  {
   "cell_type": "markdown",
   "id": "6135e1c9-6e16-40ed-87eb-7202a9d684fa",
   "metadata": {},
   "source": [
    "### Corregir el único registro con el uso ```AGROINDUSTIAL``` (falta la segunda letra 'R')"
   ]
  },
  {
   "cell_type": "code",
   "execution_count": 209,
   "id": "ef6cba39-cd3f-482e-b9b6-c145c6822003",
   "metadata": {},
   "outputs": [
    {
     "data": {
      "text/html": [
       "<div>\n",
       "<style scoped>\n",
       "    .dataframe tbody tr th:only-of-type {\n",
       "        vertical-align: middle;\n",
       "    }\n",
       "\n",
       "    .dataframe tbody tr th {\n",
       "        vertical-align: top;\n",
       "    }\n",
       "\n",
       "    .dataframe thead th {\n",
       "        text-align: right;\n",
       "    }\n",
       "</style>\n",
       "<table border=\"1\" class=\"dataframe\">\n",
       "  <thead>\n",
       "    <tr style=\"text-align: right;\">\n",
       "      <th></th>\n",
       "      <th>#</th>\n",
       "      <th>Título</th>\n",
       "      <th>Latitud</th>\n",
       "      <th>Longitud</th>\n",
       "      <th>Estado</th>\n",
       "      <th>Municipio</th>\n",
       "      <th>RegiónHidrológica</th>\n",
       "      <th>Cuenca</th>\n",
       "      <th>AcuíferoHomologado</th>\n",
       "      <th>Volumen (m3/año)</th>\n",
       "      <th>Uso</th>\n",
       "    </tr>\n",
       "  </thead>\n",
       "  <tbody>\n",
       "  </tbody>\n",
       "</table>\n",
       "</div>"
      ],
      "text/plain": [
       "Empty DataFrame\n",
       "Columns: [#, Título, Latitud, Longitud, Estado, Municipio, RegiónHidrológica, Cuenca, AcuíferoHomologado, Volumen (m3/año), Uso]\n",
       "Index: []"
      ]
     },
     "execution_count": 209,
     "metadata": {},
     "output_type": "execute_result"
    }
   ],
   "source": [
    "pozos['Uso'].replace('AGROINDUSTIAL', 'AGROINDUSTRIAL', inplace=True)\n",
    "\n",
    "pozos[pozos['Uso'] == 'AGROINDUSTIAL'].head()  # probar también con 'AGROINDUSTRIAL'"
   ]
  },
  {
   "cell_type": "code",
   "execution_count": 210,
   "id": "6f05ce79-5418-41c9-94f8-7cd452a72330",
   "metadata": {},
   "outputs": [
    {
     "data": {
      "image/png": "[encoded data removed]",
      "text/plain": [
       "<Figure size 1000x600 with 1 Axes>"
      ]
     },
     "metadata": {},
     "output_type": "display_data"
    }
   ],
   "source": [
    "plt.figure(figsize=(10, 6))\n",
    "sns.countplot(data=pozos, x='Municipio', palette='rocket')\n",
    "plt.xticks(rotation=90)\n",
    "plt.show()"
   ]
  },
  {
   "cell_type": "code",
   "execution_count": 211,
   "id": "71d5913e-cf5a-4a0c-9e72-40a329847a27",
   "metadata": {},
   "outputs": [
    {
     "data": {
      "text/plain": [
       "Municipio\n",
       "MORELIA                263\n",
       "CUITZEO                181\n",
       "TARÍMBARO              168\n",
       "SANTA ANA MAYA         133\n",
       "HUANDACAREO            121\n",
       "COPÁNDARO              113\n",
       "ÁLVARO OBREGÓN         103\n",
       "ZINAPÉCUARO             83\n",
       "CHARO                   51\n",
       "INDAPARAPEO             51\n",
       "HIDALGO                 30\n",
       "CHUCÁNDIRO              22\n",
       "MORELOS                 14\n",
       "ACUITZIO                14\n",
       "QUERÉNDARO               9\n",
       "LAGUNILLAS               1\n",
       "ARIO                     1\n",
       "TZINTZUNTZAN             1\n",
       "HUIRAMBA                 1\n",
       "JOSÉ SIXTO VERDUZCO      1\n",
       "LA PIEDAD                1\n",
       "PURUÁNDIRO               1\n",
       "Name: count, dtype: Int64"
      ]
     },
     "execution_count": 211,
     "metadata": {},
     "output_type": "execute_result"
    }
   ],
   "source": [
    "pozos['Municipio'].value_counts()"
   ]
  },
  {
   "cell_type": "code",
   "execution_count": 212,
   "id": "ef1ee815-6170-4b20-9a8c-f778a2007fbd",
   "metadata": {},
   "outputs": [
    {
     "data": {
      "text/plain": [
       "RegiónHidrológica\n",
       "LERMA-SANTIAGO    1339\n",
       "BALSAS              24\n",
       "Name: count, dtype: Int64"
      ]
     },
     "execution_count": 212,
     "metadata": {},
     "output_type": "execute_result"
    }
   ],
   "source": [
    "pozos[\"RegiónHidrológica\"].value_counts()"
   ]
  },
  {
   "cell_type": "code",
   "execution_count": 213,
   "id": "41be48de-6da6-4274-9471-ef74b02da781",
   "metadata": {},
   "outputs": [
    {
     "data": {
      "text/html": [
       "<div>\n",
       "<style scoped>\n",
       "    .dataframe tbody tr th:only-of-type {\n",
       "        vertical-align: middle;\n",
       "    }\n",
       "\n",
       "    .dataframe tbody tr th {\n",
       "        vertical-align: top;\n",
       "    }\n",
       "\n",
       "    .dataframe thead th {\n",
       "        text-align: right;\n",
       "    }\n",
       "</style>\n",
       "<table border=\"1\" class=\"dataframe\">\n",
       "  <thead>\n",
       "    <tr style=\"text-align: right;\">\n",
       "      <th></th>\n",
       "      <th>#</th>\n",
       "      <th>Título</th>\n",
       "      <th>Latitud</th>\n",
       "      <th>Longitud</th>\n",
       "      <th>Estado</th>\n",
       "      <th>Municipio</th>\n",
       "      <th>RegiónHidrológica</th>\n",
       "      <th>Cuenca</th>\n",
       "      <th>AcuíferoHomologado</th>\n",
       "      <th>Volumen (m3/año)</th>\n",
       "      <th>Uso</th>\n",
       "    </tr>\n",
       "  </thead>\n",
       "  <tbody>\n",
       "    <tr>\n",
       "      <th>280</th>\n",
       "      <td>281</td>\n",
       "      <td>08MCH124448/12DMDL12</td>\n",
       "      <td>19°54'25.0000\"</td>\n",
       "      <td>-100°50'20.0000\"</td>\n",
       "      <td>MICHOACÁN DE OCAMPO</td>\n",
       "      <td>ZINAPÉCUARO</td>\n",
       "      <td>LERMA-SANTIAGO</td>\n",
       "      <td>0</td>\n",
       "      <td>1602  - MORELIA-QUERENDARO</td>\n",
       "      <td>30,000.00</td>\n",
       "      <td>ACUACULTURA</td>\n",
       "    </tr>\n",
       "    <tr>\n",
       "      <th>1302</th>\n",
       "      <td>1303</td>\n",
       "      <td>4MCH104139/12DMGE95</td>\n",
       "      <td>19°54'23.0000\"</td>\n",
       "      <td>-101°09'17.0000\"</td>\n",
       "      <td>MICHOACÁN DE OCAMPO</td>\n",
       "      <td>CUITZEO</td>\n",
       "      <td>LERMA-SANTIAGO</td>\n",
       "      <td>0</td>\n",
       "      <td>1602  - MORELIA-QUERENDARO</td>\n",
       "      <td>15,000.00</td>\n",
       "      <td>ACUACULTURA</td>\n",
       "    </tr>\n",
       "  </tbody>\n",
       "</table>\n",
       "</div>"
      ],
      "text/plain": [
       "         #                Título         Latitud          Longitud  \\\n",
       "280    281  08MCH124448/12DMDL12  19°54'25.0000\"  -100°50'20.0000\"   \n",
       "1302  1303   4MCH104139/12DMGE95  19°54'23.0000\"  -101°09'17.0000\"   \n",
       "\n",
       "                   Estado    Municipio RegiónHidrológica  Cuenca  \\\n",
       "280   MICHOACÁN DE OCAMPO  ZINAPÉCUARO    LERMA-SANTIAGO       0   \n",
       "1302  MICHOACÁN DE OCAMPO      CUITZEO    LERMA-SANTIAGO       0   \n",
       "\n",
       "              AcuíferoHomologado  Volumen (m3/año)          Uso  \n",
       "280   1602  - MORELIA-QUERENDARO         30,000.00  ACUACULTURA  \n",
       "1302  1602  - MORELIA-QUERENDARO         15,000.00  ACUACULTURA  "
      ]
     },
     "execution_count": 213,
     "metadata": {},
     "output_type": "execute_result"
    }
   ],
   "source": [
    "pozos[pozos['Uso'] == 'ACUACULTURA']"
   ]
  },
  {
   "cell_type": "code",
   "execution_count": 214,
   "id": "1e53c9aa-4248-4805-8db9-c2365c08d2a0",
   "metadata": {},
   "outputs": [
    {
     "data": {
      "text/html": [
       "<div>\n",
       "<style scoped>\n",
       "    .dataframe tbody tr th:only-of-type {\n",
       "        vertical-align: middle;\n",
       "    }\n",
       "\n",
       "    .dataframe tbody tr th {\n",
       "        vertical-align: top;\n",
       "    }\n",
       "\n",
       "    .dataframe thead th {\n",
       "        text-align: right;\n",
       "    }\n",
       "</style>\n",
       "<table border=\"1\" class=\"dataframe\">\n",
       "  <thead>\n",
       "    <tr style=\"text-align: right;\">\n",
       "      <th></th>\n",
       "      <th>#</th>\n",
       "      <th>Título</th>\n",
       "      <th>Latitud</th>\n",
       "      <th>Longitud</th>\n",
       "      <th>Estado</th>\n",
       "      <th>Municipio</th>\n",
       "      <th>RegiónHidrológica</th>\n",
       "      <th>Cuenca</th>\n",
       "      <th>AcuíferoHomologado</th>\n",
       "      <th>Volumen (m3/año)</th>\n",
       "      <th>Uso</th>\n",
       "    </tr>\n",
       "  </thead>\n",
       "  <tbody>\n",
       "    <tr>\n",
       "      <th>941</th>\n",
       "      <td>942</td>\n",
       "      <td>08MCH102230/12BMDL08</td>\n",
       "      <td>20°04'15.0000\"</td>\n",
       "      <td>-101°07'14.0000\"</td>\n",
       "      <td>MICHOACÁN DE OCAMPO</td>\n",
       "      <td>SANTA ANA MAYA</td>\n",
       "      <td>LERMA-SANTIAGO</td>\n",
       "      <td>0</td>\n",
       "      <td>1602  - MORELIA-QUERENDARO</td>\n",
       "      <td>40,000.00</td>\n",
       "      <td>AGROINDUSTRIAL</td>\n",
       "    </tr>\n",
       "  </tbody>\n",
       "</table>\n",
       "</div>"
      ],
      "text/plain": [
       "       #                Título         Latitud          Longitud  \\\n",
       "941  942  08MCH102230/12BMDL08  20°04'15.0000\"  -101°07'14.0000\"   \n",
       "\n",
       "                  Estado       Municipio RegiónHidrológica  Cuenca  \\\n",
       "941  MICHOACÁN DE OCAMPO  SANTA ANA MAYA    LERMA-SANTIAGO       0   \n",
       "\n",
       "             AcuíferoHomologado  Volumen (m3/año)             Uso  \n",
       "941  1602  - MORELIA-QUERENDARO         40,000.00  AGROINDUSTRIAL  "
      ]
     },
     "execution_count": 214,
     "metadata": {},
     "output_type": "execute_result"
    }
   ],
   "source": [
    "pozos[pozos['Uso'] == 'AGROINDUSTRIAL']"
   ]
  },
  {
   "cell_type": "markdown",
   "id": "3535f921-fcda-473c-9ec5-9c997c2d5f9e",
   "metadata": {
    "tags": []
   },
   "source": [
    "### Eliminar duplicados en la columna ```AcuíferoHomologado```"
   ]
  },
  {
   "cell_type": "code",
   "execution_count": 215,
   "id": "d44933bc-04fa-4ca3-9345-acdb8b2d6925",
   "metadata": {
    "tags": []
   },
   "outputs": [
    {
     "data": {
      "text/plain": [
       "AcuíferoHomologado\n",
       "1602  - MORELIA-QUERENDARO      1138\n",
       "1602 - MORELIA-QUERENDARO        197\n",
       "1610 - CIUDAD HIDALGO-TUXPAN      28\n",
       "Name: count, dtype: Int64"
      ]
     },
     "execution_count": 215,
     "metadata": {},
     "output_type": "execute_result"
    }
   ],
   "source": [
    "pozos['AcuíferoHomologado'].value_counts()  # eliminar duplicados"
   ]
  },
  {
   "cell_type": "code",
   "execution_count": 216,
   "id": "8d23f57c-2a1a-4c9b-adae-949f1c2d658a",
   "metadata": {},
   "outputs": [
    {
     "data": {
      "text/plain": [
       "AcuíferoHomologado\n",
       "1602 - MORELIA-QUERENDARO       1335\n",
       "1610 - CIUDAD HIDALGO-TUXPAN      28\n",
       "Name: count, dtype: Int64"
      ]
     },
     "execution_count": 216,
     "metadata": {},
     "output_type": "execute_result"
    }
   ],
   "source": [
    "pozos['AcuíferoHomologado'].replace('1602  - MORELIA-QUERENDARO', '1602 - MORELIA-QUERENDARO', inplace = True)\n",
    "pozos['AcuíferoHomologado'].value_counts()"
   ]
  },
  {
   "cell_type": "markdown",
   "id": "ca7c07dd-072a-4164-8800-40e13563d8d7",
   "metadata": {},
   "source": [
    "### Eliminar las columnas que no aportan información"
   ]
  },
  {
   "cell_type": "code",
   "execution_count": 217,
   "id": "937ab961-5821-41b5-980a-6acb6da082e7",
   "metadata": {},
   "outputs": [
    {
     "data": {
      "text/html": [
       "<div>\n",
       "<style scoped>\n",
       "    .dataframe tbody tr th:only-of-type {\n",
       "        vertical-align: middle;\n",
       "    }\n",
       "\n",
       "    .dataframe tbody tr th {\n",
       "        vertical-align: top;\n",
       "    }\n",
       "\n",
       "    .dataframe thead th {\n",
       "        text-align: right;\n",
       "    }\n",
       "</style>\n",
       "<table border=\"1\" class=\"dataframe\">\n",
       "  <thead>\n",
       "    <tr style=\"text-align: right;\">\n",
       "      <th></th>\n",
       "      <th>Latitud</th>\n",
       "      <th>Longitud</th>\n",
       "      <th>Municipio</th>\n",
       "      <th>RegiónHidrológica</th>\n",
       "      <th>Cuenca</th>\n",
       "      <th>AcuíferoHomologado</th>\n",
       "      <th>Volumen (m3/año)</th>\n",
       "      <th>Uso</th>\n",
       "    </tr>\n",
       "  </thead>\n",
       "  <tbody>\n",
       "    <tr>\n",
       "      <th>0</th>\n",
       "      <td>19°58'36.0006\"</td>\n",
       "      <td>-101°16'41.0007\"</td>\n",
       "      <td>HUANDACAREO</td>\n",
       "      <td>LERMA-SANTIAGO</td>\n",
       "      <td>188</td>\n",
       "      <td>1602 - MORELIA-QUERENDARO</td>\n",
       "      <td>22,800.00</td>\n",
       "      <td>AGRICOLA</td>\n",
       "    </tr>\n",
       "    <tr>\n",
       "      <th>1</th>\n",
       "      <td>19°59'22.0004\"</td>\n",
       "      <td>-101°16'30.0003\"</td>\n",
       "      <td>HUANDACAREO</td>\n",
       "      <td>LERMA-SANTIAGO</td>\n",
       "      <td>188</td>\n",
       "      <td>1602 - MORELIA-QUERENDARO</td>\n",
       "      <td>9,000.00</td>\n",
       "      <td>AGRICOLA</td>\n",
       "    </tr>\n",
       "    <tr>\n",
       "      <th>2</th>\n",
       "      <td>20°02'22.0006\"</td>\n",
       "      <td>-101°09'00.0005\"</td>\n",
       "      <td>CUITZEO</td>\n",
       "      <td>LERMA-SANTIAGO</td>\n",
       "      <td>188</td>\n",
       "      <td>1602 - MORELIA-QUERENDARO</td>\n",
       "      <td>20,020.00</td>\n",
       "      <td>AGRICOLA</td>\n",
       "    </tr>\n",
       "    <tr>\n",
       "      <th>3</th>\n",
       "      <td>20°01'50.0005\"</td>\n",
       "      <td>-101°09'38.0006\"</td>\n",
       "      <td>CUITZEO</td>\n",
       "      <td>LERMA-SANTIAGO</td>\n",
       "      <td>188</td>\n",
       "      <td>1602 - MORELIA-QUERENDARO</td>\n",
       "      <td>6,000.00</td>\n",
       "      <td>AGRICOLA</td>\n",
       "    </tr>\n",
       "    <tr>\n",
       "      <th>4</th>\n",
       "      <td>19°49'11.0005\"</td>\n",
       "      <td>-101°08'37.0006\"</td>\n",
       "      <td>TARÍMBARO</td>\n",
       "      <td>LERMA-SANTIAGO</td>\n",
       "      <td>188</td>\n",
       "      <td>1602 - MORELIA-QUERENDARO</td>\n",
       "      <td>30,000.00</td>\n",
       "      <td>SERVICIOS</td>\n",
       "    </tr>\n",
       "  </tbody>\n",
       "</table>\n",
       "</div>"
      ],
      "text/plain": [
       "          Latitud          Longitud    Municipio RegiónHidrológica  Cuenca  \\\n",
       "0  19°58'36.0006\"  -101°16'41.0007\"  HUANDACAREO    LERMA-SANTIAGO     188   \n",
       "1  19°59'22.0004\"  -101°16'30.0003\"  HUANDACAREO    LERMA-SANTIAGO     188   \n",
       "2  20°02'22.0006\"  -101°09'00.0005\"      CUITZEO    LERMA-SANTIAGO     188   \n",
       "3  20°01'50.0005\"  -101°09'38.0006\"      CUITZEO    LERMA-SANTIAGO     188   \n",
       "4  19°49'11.0005\"  -101°08'37.0006\"    TARÍMBARO    LERMA-SANTIAGO     188   \n",
       "\n",
       "          AcuíferoHomologado  Volumen (m3/año)        Uso  \n",
       "0  1602 - MORELIA-QUERENDARO         22,800.00   AGRICOLA  \n",
       "1  1602 - MORELIA-QUERENDARO          9,000.00   AGRICOLA  \n",
       "2  1602 - MORELIA-QUERENDARO         20,020.00   AGRICOLA  \n",
       "3  1602 - MORELIA-QUERENDARO          6,000.00   AGRICOLA  \n",
       "4  1602 - MORELIA-QUERENDARO         30,000.00  SERVICIOS  "
      ]
     },
     "execution_count": 217,
     "metadata": {},
     "output_type": "execute_result"
    }
   ],
   "source": [
    "pozos.drop(['#', 'Estado', \"Título\"], axis = 1, inplace = True)\n",
    "pozos.head()"
   ]
  },
  {
   "cell_type": "code",
   "execution_count": 218,
   "id": "9e38b5b6-9007-4be0-833f-f5d5ff4536f1",
   "metadata": {},
   "outputs": [],
   "source": [
    "def to_seconds(coords, start_deg = 0, start_min=2, start_sec=4):\n",
    "    \n",
    "    coords = (coords  # eliminar identificadores de grados, minutos y segundos\n",
    "              .replace('°', '')\n",
    "              .replace(\"'\", '')\n",
    "              .replace('\"', '')\n",
    "             )\n",
    "    \n",
    "    result = 1\n",
    "    if coords[0] == '-':  # negative coordinates\n",
    "        result = -1\n",
    "        start_deg += 1\n",
    "        start_min += 1\n",
    "        start_sec += 1\n",
    "\n",
    "    result *= 3_600*float(coords[start_deg : start_min]) + 60*float(coords[start_min : start_sec]) + float(coords[start_sec : ])\n",
    "    \n",
    "    return result"
   ]
  },
  {
   "cell_type": "code",
   "execution_count": 219,
   "id": "88df300d-0f71-46be-938f-d409bb39aaeb",
   "metadata": {},
   "outputs": [
    {
     "data": {
      "text/html": [
       "<div>\n",
       "<style scoped>\n",
       "    .dataframe tbody tr th:only-of-type {\n",
       "        vertical-align: middle;\n",
       "    }\n",
       "\n",
       "    .dataframe tbody tr th {\n",
       "        vertical-align: top;\n",
       "    }\n",
       "\n",
       "    .dataframe thead th {\n",
       "        text-align: right;\n",
       "    }\n",
       "</style>\n",
       "<table border=\"1\" class=\"dataframe\">\n",
       "  <thead>\n",
       "    <tr style=\"text-align: right;\">\n",
       "      <th></th>\n",
       "      <th>Latitud</th>\n",
       "    </tr>\n",
       "  </thead>\n",
       "  <tbody>\n",
       "    <tr>\n",
       "      <th>0</th>\n",
       "      <td>19°58'36.0006\"</td>\n",
       "    </tr>\n",
       "    <tr>\n",
       "      <th>1</th>\n",
       "      <td>19°59'22.0004\"</td>\n",
       "    </tr>\n",
       "    <tr>\n",
       "      <th>2</th>\n",
       "      <td>20°02'22.0006\"</td>\n",
       "    </tr>\n",
       "    <tr>\n",
       "      <th>3</th>\n",
       "      <td>20°01'50.0005\"</td>\n",
       "    </tr>\n",
       "    <tr>\n",
       "      <th>4</th>\n",
       "      <td>19°49'11.0005\"</td>\n",
       "    </tr>\n",
       "  </tbody>\n",
       "</table>\n",
       "</div>"
      ],
      "text/plain": [
       "          Latitud\n",
       "0  19°58'36.0006\"\n",
       "1  19°59'22.0004\"\n",
       "2  20°02'22.0006\"\n",
       "3  20°01'50.0005\"\n",
       "4  19°49'11.0005\""
      ]
     },
     "execution_count": 219,
     "metadata": {},
     "output_type": "execute_result"
    }
   ],
   "source": [
    "pozos[['Latitud']].head()"
   ]
  },
  {
   "cell_type": "code",
   "execution_count": 220,
   "id": "ebaf7658-1c83-4e0d-9c5d-e40dd6260fa0",
   "metadata": {},
   "outputs": [
    {
     "data": {
      "text/html": [
       "<div>\n",
       "<style scoped>\n",
       "    .dataframe tbody tr th:only-of-type {\n",
       "        vertical-align: middle;\n",
       "    }\n",
       "\n",
       "    .dataframe tbody tr th {\n",
       "        vertical-align: top;\n",
       "    }\n",
       "\n",
       "    .dataframe thead th {\n",
       "        text-align: right;\n",
       "    }\n",
       "</style>\n",
       "<table border=\"1\" class=\"dataframe\">\n",
       "  <thead>\n",
       "    <tr style=\"text-align: right;\">\n",
       "      <th></th>\n",
       "      <th>Latitud</th>\n",
       "    </tr>\n",
       "  </thead>\n",
       "  <tbody>\n",
       "    <tr>\n",
       "      <th>0</th>\n",
       "      <td>71,916.00</td>\n",
       "    </tr>\n",
       "    <tr>\n",
       "      <th>1</th>\n",
       "      <td>71,962.00</td>\n",
       "    </tr>\n",
       "    <tr>\n",
       "      <th>2</th>\n",
       "      <td>72,142.00</td>\n",
       "    </tr>\n",
       "    <tr>\n",
       "      <th>3</th>\n",
       "      <td>72,110.00</td>\n",
       "    </tr>\n",
       "    <tr>\n",
       "      <th>4</th>\n",
       "      <td>71,351.00</td>\n",
       "    </tr>\n",
       "  </tbody>\n",
       "</table>\n",
       "</div>"
      ],
      "text/plain": [
       "    Latitud\n",
       "0 71,916.00\n",
       "1 71,962.00\n",
       "2 72,142.00\n",
       "3 72,110.00\n",
       "4 71,351.00"
      ]
     },
     "execution_count": 220,
     "metadata": {},
     "output_type": "execute_result"
    }
   ],
   "source": [
    "pozos[['Latitud']] = pozos[['Latitud']].map(to_seconds)\n",
    "pozos[['Latitud']].head()"
   ]
  },
  {
   "cell_type": "code",
   "execution_count": 221,
   "id": "c40d1975-f0e8-4f57-b1b8-b5e9dc0052f3",
   "metadata": {},
   "outputs": [
    {
     "name": "stdout",
     "output_type": "stream",
     "text": [
      "<class 'pandas.core.frame.DataFrame'>\n",
      "RangeIndex: 1363 entries, 0 to 1362\n",
      "Data columns (total 8 columns):\n",
      " #   Column              Non-Null Count  Dtype  \n",
      "---  ------              --------------  -----  \n",
      " 0   Latitud             1363 non-null   float64\n",
      " 1   Longitud            1363 non-null   string \n",
      " 2   Municipio           1363 non-null   string \n",
      " 3   RegiónHidrológica   1363 non-null   string \n",
      " 4   Cuenca              1363 non-null   int64  \n",
      " 5   AcuíferoHomologado  1363 non-null   string \n",
      " 6   Volumen (m3/año)    1363 non-null   float64\n",
      " 7   Uso                 1363 non-null   string \n",
      "dtypes: float64(2), int64(1), string(5)\n",
      "memory usage: 85.3 KB\n"
     ]
    }
   ],
   "source": [
    "pozos.info()"
   ]
  },
  {
   "cell_type": "code",
   "execution_count": 222,
   "id": "5b4dd823-2f8d-4ed2-970f-ffbc374df69d",
   "metadata": {},
   "outputs": [
    {
     "data": {
      "text/html": [
       "<div>\n",
       "<style scoped>\n",
       "    .dataframe tbody tr th:only-of-type {\n",
       "        vertical-align: middle;\n",
       "    }\n",
       "\n",
       "    .dataframe tbody tr th {\n",
       "        vertical-align: top;\n",
       "    }\n",
       "\n",
       "    .dataframe thead th {\n",
       "        text-align: right;\n",
       "    }\n",
       "</style>\n",
       "<table border=\"1\" class=\"dataframe\">\n",
       "  <thead>\n",
       "    <tr style=\"text-align: right;\">\n",
       "      <th></th>\n",
       "      <th>Longitud</th>\n",
       "    </tr>\n",
       "  </thead>\n",
       "  <tbody>\n",
       "    <tr>\n",
       "      <th>0</th>\n",
       "      <td>-101°16'41.0007\"</td>\n",
       "    </tr>\n",
       "    <tr>\n",
       "      <th>1</th>\n",
       "      <td>-101°16'30.0003\"</td>\n",
       "    </tr>\n",
       "    <tr>\n",
       "      <th>2</th>\n",
       "      <td>-101°09'00.0005\"</td>\n",
       "    </tr>\n",
       "    <tr>\n",
       "      <th>3</th>\n",
       "      <td>-101°09'38.0006\"</td>\n",
       "    </tr>\n",
       "    <tr>\n",
       "      <th>4</th>\n",
       "      <td>-101°08'37.0006\"</td>\n",
       "    </tr>\n",
       "  </tbody>\n",
       "</table>\n",
       "</div>"
      ],
      "text/plain": [
       "           Longitud\n",
       "0  -101°16'41.0007\"\n",
       "1  -101°16'30.0003\"\n",
       "2  -101°09'00.0005\"\n",
       "3  -101°09'38.0006\"\n",
       "4  -101°08'37.0006\""
      ]
     },
     "execution_count": 222,
     "metadata": {},
     "output_type": "execute_result"
    }
   ],
   "source": [
    "pozos[['Longitud']].head()"
   ]
  },
  {
   "cell_type": "code",
   "execution_count": 223,
   "id": "a425ab85-db53-4be8-b752-ac47b1603374",
   "metadata": {},
   "outputs": [
    {
     "data": {
      "text/html": [
       "<div>\n",
       "<style scoped>\n",
       "    .dataframe tbody tr th:only-of-type {\n",
       "        vertical-align: middle;\n",
       "    }\n",
       "\n",
       "    .dataframe tbody tr th {\n",
       "        vertical-align: top;\n",
       "    }\n",
       "\n",
       "    .dataframe thead th {\n",
       "        text-align: right;\n",
       "    }\n",
       "</style>\n",
       "<table border=\"1\" class=\"dataframe\">\n",
       "  <thead>\n",
       "    <tr style=\"text-align: right;\">\n",
       "      <th></th>\n",
       "      <th>Longitud</th>\n",
       "    </tr>\n",
       "  </thead>\n",
       "  <tbody>\n",
       "    <tr>\n",
       "      <th>0</th>\n",
       "      <td>-364,601.00</td>\n",
       "    </tr>\n",
       "    <tr>\n",
       "      <th>1</th>\n",
       "      <td>-364,590.00</td>\n",
       "    </tr>\n",
       "    <tr>\n",
       "      <th>2</th>\n",
       "      <td>-364,140.00</td>\n",
       "    </tr>\n",
       "    <tr>\n",
       "      <th>3</th>\n",
       "      <td>-364,178.00</td>\n",
       "    </tr>\n",
       "    <tr>\n",
       "      <th>4</th>\n",
       "      <td>-364,117.00</td>\n",
       "    </tr>\n",
       "  </tbody>\n",
       "</table>\n",
       "</div>"
      ],
      "text/plain": [
       "     Longitud\n",
       "0 -364,601.00\n",
       "1 -364,590.00\n",
       "2 -364,140.00\n",
       "3 -364,178.00\n",
       "4 -364,117.00"
      ]
     },
     "execution_count": 223,
     "metadata": {},
     "output_type": "execute_result"
    }
   ],
   "source": [
    "pozos[['Longitud']] = pozos[['Longitud']].map(to_seconds, start_deg = 0, start_min=3, start_sec=5)\n",
    "pozos[['Longitud']].head()"
   ]
  },
  {
   "cell_type": "code",
   "execution_count": 224,
   "id": "a18a77c6-74d2-4f5f-9f93-9c1e9c9a2986",
   "metadata": {},
   "outputs": [
    {
     "name": "stdout",
     "output_type": "stream",
     "text": [
      "<class 'pandas.core.frame.DataFrame'>\n",
      "RangeIndex: 1363 entries, 0 to 1362\n",
      "Data columns (total 8 columns):\n",
      " #   Column              Non-Null Count  Dtype  \n",
      "---  ------              --------------  -----  \n",
      " 0   Latitud             1363 non-null   float64\n",
      " 1   Longitud            1363 non-null   float64\n",
      " 2   Municipio           1363 non-null   string \n",
      " 3   RegiónHidrológica   1363 non-null   string \n",
      " 4   Cuenca              1363 non-null   int64  \n",
      " 5   AcuíferoHomologado  1363 non-null   string \n",
      " 6   Volumen (m3/año)    1363 non-null   float64\n",
      " 7   Uso                 1363 non-null   string \n",
      "dtypes: float64(3), int64(1), string(4)\n",
      "memory usage: 85.3 KB\n"
     ]
    }
   ],
   "source": [
    "pozos.info()"
   ]
  },
  {
   "cell_type": "markdown",
   "id": "aa9552ae-04a8-492b-9430-951e0e6ce1af",
   "metadata": {},
   "source": [
    "---\n",
    "\n",
    "### Revisar el Dataframe final"
   ]
  },
  {
   "cell_type": "code",
   "execution_count": 225,
   "id": "f4fd8951-58d4-4704-94c6-6073b3e504a3",
   "metadata": {},
   "outputs": [
    {
     "data": {
      "text/html": [
       "<div>\n",
       "<style scoped>\n",
       "    .dataframe tbody tr th:only-of-type {\n",
       "        vertical-align: middle;\n",
       "    }\n",
       "\n",
       "    .dataframe tbody tr th {\n",
       "        vertical-align: top;\n",
       "    }\n",
       "\n",
       "    .dataframe thead th {\n",
       "        text-align: right;\n",
       "    }\n",
       "</style>\n",
       "<table border=\"1\" class=\"dataframe\">\n",
       "  <thead>\n",
       "    <tr style=\"text-align: right;\">\n",
       "      <th></th>\n",
       "      <th>Latitud</th>\n",
       "      <th>Longitud</th>\n",
       "      <th>Municipio</th>\n",
       "      <th>RegiónHidrológica</th>\n",
       "      <th>Cuenca</th>\n",
       "      <th>AcuíferoHomologado</th>\n",
       "      <th>Volumen (m3/año)</th>\n",
       "      <th>Uso</th>\n",
       "    </tr>\n",
       "  </thead>\n",
       "  <tbody>\n",
       "    <tr>\n",
       "      <th>0</th>\n",
       "      <td>71,916.00</td>\n",
       "      <td>-364,601.00</td>\n",
       "      <td>HUANDACAREO</td>\n",
       "      <td>LERMA-SANTIAGO</td>\n",
       "      <td>188</td>\n",
       "      <td>1602 - MORELIA-QUERENDARO</td>\n",
       "      <td>22,800.00</td>\n",
       "      <td>AGRICOLA</td>\n",
       "    </tr>\n",
       "    <tr>\n",
       "      <th>1</th>\n",
       "      <td>71,962.00</td>\n",
       "      <td>-364,590.00</td>\n",
       "      <td>HUANDACAREO</td>\n",
       "      <td>LERMA-SANTIAGO</td>\n",
       "      <td>188</td>\n",
       "      <td>1602 - MORELIA-QUERENDARO</td>\n",
       "      <td>9,000.00</td>\n",
       "      <td>AGRICOLA</td>\n",
       "    </tr>\n",
       "    <tr>\n",
       "      <th>2</th>\n",
       "      <td>72,142.00</td>\n",
       "      <td>-364,140.00</td>\n",
       "      <td>CUITZEO</td>\n",
       "      <td>LERMA-SANTIAGO</td>\n",
       "      <td>188</td>\n",
       "      <td>1602 - MORELIA-QUERENDARO</td>\n",
       "      <td>20,020.00</td>\n",
       "      <td>AGRICOLA</td>\n",
       "    </tr>\n",
       "    <tr>\n",
       "      <th>3</th>\n",
       "      <td>72,110.00</td>\n",
       "      <td>-364,178.00</td>\n",
       "      <td>CUITZEO</td>\n",
       "      <td>LERMA-SANTIAGO</td>\n",
       "      <td>188</td>\n",
       "      <td>1602 - MORELIA-QUERENDARO</td>\n",
       "      <td>6,000.00</td>\n",
       "      <td>AGRICOLA</td>\n",
       "    </tr>\n",
       "    <tr>\n",
       "      <th>4</th>\n",
       "      <td>71,351.00</td>\n",
       "      <td>-364,117.00</td>\n",
       "      <td>TARÍMBARO</td>\n",
       "      <td>LERMA-SANTIAGO</td>\n",
       "      <td>188</td>\n",
       "      <td>1602 - MORELIA-QUERENDARO</td>\n",
       "      <td>30,000.00</td>\n",
       "      <td>SERVICIOS</td>\n",
       "    </tr>\n",
       "  </tbody>\n",
       "</table>\n",
       "</div>"
      ],
      "text/plain": [
       "    Latitud    Longitud    Municipio RegiónHidrológica  Cuenca  \\\n",
       "0 71,916.00 -364,601.00  HUANDACAREO    LERMA-SANTIAGO     188   \n",
       "1 71,962.00 -364,590.00  HUANDACAREO    LERMA-SANTIAGO     188   \n",
       "2 72,142.00 -364,140.00      CUITZEO    LERMA-SANTIAGO     188   \n",
       "3 72,110.00 -364,178.00      CUITZEO    LERMA-SANTIAGO     188   \n",
       "4 71,351.00 -364,117.00    TARÍMBARO    LERMA-SANTIAGO     188   \n",
       "\n",
       "          AcuíferoHomologado  Volumen (m3/año)        Uso  \n",
       "0  1602 - MORELIA-QUERENDARO         22,800.00   AGRICOLA  \n",
       "1  1602 - MORELIA-QUERENDARO          9,000.00   AGRICOLA  \n",
       "2  1602 - MORELIA-QUERENDARO         20,020.00   AGRICOLA  \n",
       "3  1602 - MORELIA-QUERENDARO          6,000.00   AGRICOLA  \n",
       "4  1602 - MORELIA-QUERENDARO         30,000.00  SERVICIOS  "
      ]
     },
     "execution_count": 225,
     "metadata": {},
     "output_type": "execute_result"
    }
   ],
   "source": [
    "pozos.head()"
   ]
  },
  {
   "cell_type": "code",
   "execution_count": 226,
   "id": "04532024-2ad5-44b9-9b9a-a9cb8f2387de",
   "metadata": {},
   "outputs": [
    {
     "data": {
      "text/html": [
       "<div>\n",
       "<style scoped>\n",
       "    .dataframe tbody tr th:only-of-type {\n",
       "        vertical-align: middle;\n",
       "    }\n",
       "\n",
       "    .dataframe tbody tr th {\n",
       "        vertical-align: top;\n",
       "    }\n",
       "\n",
       "    .dataframe thead th {\n",
       "        text-align: right;\n",
       "    }\n",
       "</style>\n",
       "<table border=\"1\" class=\"dataframe\">\n",
       "  <thead>\n",
       "    <tr style=\"text-align: right;\">\n",
       "      <th></th>\n",
       "      <th>Latitud</th>\n",
       "      <th>Longitud</th>\n",
       "      <th>Cuenca</th>\n",
       "      <th>Volumen (m3/año)</th>\n",
       "    </tr>\n",
       "  </thead>\n",
       "  <tbody>\n",
       "    <tr>\n",
       "      <th>count</th>\n",
       "      <td>1,363.00</td>\n",
       "      <td>1,363.00</td>\n",
       "      <td>1,363.00</td>\n",
       "      <td>1,363.00</td>\n",
       "    </tr>\n",
       "    <tr>\n",
       "      <th>mean</th>\n",
       "      <td>71,490.95</td>\n",
       "      <td>-364,096.13</td>\n",
       "      <td>28.55</td>\n",
       "      <td>155,836.62</td>\n",
       "    </tr>\n",
       "    <tr>\n",
       "      <th>std</th>\n",
       "      <td>645.40</td>\n",
       "      <td>721.15</td>\n",
       "      <td>67.49</td>\n",
       "      <td>388,446.52</td>\n",
       "    </tr>\n",
       "    <tr>\n",
       "      <th>min</th>\n",
       "      <td>68,005.00</td>\n",
       "      <td>-371,361.00</td>\n",
       "      <td>0.00</td>\n",
       "      <td>0.00</td>\n",
       "    </tr>\n",
       "    <tr>\n",
       "      <th>25%</th>\n",
       "      <td>71,118.00</td>\n",
       "      <td>-364,411.50</td>\n",
       "      <td>0.00</td>\n",
       "      <td>15,000.00</td>\n",
       "    </tr>\n",
       "    <tr>\n",
       "      <th>50%</th>\n",
       "      <td>71,468.00</td>\n",
       "      <td>-364,145.00</td>\n",
       "      <td>0.00</td>\n",
       "      <td>46,680.00</td>\n",
       "    </tr>\n",
       "    <tr>\n",
       "      <th>75%</th>\n",
       "      <td>71,938.25</td>\n",
       "      <td>-363,778.00</td>\n",
       "      <td>0.00</td>\n",
       "      <td>162,180.00</td>\n",
       "    </tr>\n",
       "    <tr>\n",
       "      <th>max</th>\n",
       "      <td>79,260.00</td>\n",
       "      <td>-362,170.00</td>\n",
       "      <td>188.00</td>\n",
       "      <td>11,037,600.00</td>\n",
       "    </tr>\n",
       "  </tbody>\n",
       "</table>\n",
       "</div>"
      ],
      "text/plain": [
       "        Latitud    Longitud   Cuenca  Volumen (m3/año)\n",
       "count  1,363.00    1,363.00 1,363.00          1,363.00\n",
       "mean  71,490.95 -364,096.13    28.55        155,836.62\n",
       "std      645.40      721.15    67.49        388,446.52\n",
       "min   68,005.00 -371,361.00     0.00              0.00\n",
       "25%   71,118.00 -364,411.50     0.00         15,000.00\n",
       "50%   71,468.00 -364,145.00     0.00         46,680.00\n",
       "75%   71,938.25 -363,778.00     0.00        162,180.00\n",
       "max   79,260.00 -362,170.00   188.00     11,037,600.00"
      ]
     },
     "execution_count": 226,
     "metadata": {},
     "output_type": "execute_result"
    }
   ],
   "source": [
    "pozos.describe()"
   ]
  },
  {
   "cell_type": "markdown",
   "id": "e852436e-a2ae-4b00-87d1-065e4db37583",
   "metadata": {},
   "source": [
    "---\n",
    "\n",
    "## 3. Dividir los datos en la matriz $X$ y el vector de etiquetas $y$."
   ]
  },
  {
   "cell_type": "code",
   "execution_count": 227,
   "id": "0f6a8ae7-d954-4874-90af-b54e0362bcfa",
   "metadata": {},
   "outputs": [],
   "source": [
    "X = pozos.iloc[ : , : -1]\n",
    "y = pozos['Uso']"
   ]
  },
  {
   "cell_type": "code",
   "execution_count": 228,
   "id": "1a5e4692-e876-427b-9d0a-b7e8d17f8741",
   "metadata": {},
   "outputs": [
    {
     "data": {
      "text/html": [
       "<div>\n",
       "<style scoped>\n",
       "    .dataframe tbody tr th:only-of-type {\n",
       "        vertical-align: middle;\n",
       "    }\n",
       "\n",
       "    .dataframe tbody tr th {\n",
       "        vertical-align: top;\n",
       "    }\n",
       "\n",
       "    .dataframe thead th {\n",
       "        text-align: right;\n",
       "    }\n",
       "</style>\n",
       "<table border=\"1\" class=\"dataframe\">\n",
       "  <thead>\n",
       "    <tr style=\"text-align: right;\">\n",
       "      <th></th>\n",
       "      <th>Latitud</th>\n",
       "      <th>Longitud</th>\n",
       "      <th>Municipio</th>\n",
       "      <th>RegiónHidrológica</th>\n",
       "      <th>Cuenca</th>\n",
       "      <th>AcuíferoHomologado</th>\n",
       "      <th>Volumen (m3/año)</th>\n",
       "    </tr>\n",
       "  </thead>\n",
       "  <tbody>\n",
       "    <tr>\n",
       "      <th>0</th>\n",
       "      <td>71,916.00</td>\n",
       "      <td>-364,601.00</td>\n",
       "      <td>HUANDACAREO</td>\n",
       "      <td>LERMA-SANTIAGO</td>\n",
       "      <td>188</td>\n",
       "      <td>1602 - MORELIA-QUERENDARO</td>\n",
       "      <td>22,800.00</td>\n",
       "    </tr>\n",
       "    <tr>\n",
       "      <th>1</th>\n",
       "      <td>71,962.00</td>\n",
       "      <td>-364,590.00</td>\n",
       "      <td>HUANDACAREO</td>\n",
       "      <td>LERMA-SANTIAGO</td>\n",
       "      <td>188</td>\n",
       "      <td>1602 - MORELIA-QUERENDARO</td>\n",
       "      <td>9,000.00</td>\n",
       "    </tr>\n",
       "    <tr>\n",
       "      <th>2</th>\n",
       "      <td>72,142.00</td>\n",
       "      <td>-364,140.00</td>\n",
       "      <td>CUITZEO</td>\n",
       "      <td>LERMA-SANTIAGO</td>\n",
       "      <td>188</td>\n",
       "      <td>1602 - MORELIA-QUERENDARO</td>\n",
       "      <td>20,020.00</td>\n",
       "    </tr>\n",
       "    <tr>\n",
       "      <th>3</th>\n",
       "      <td>72,110.00</td>\n",
       "      <td>-364,178.00</td>\n",
       "      <td>CUITZEO</td>\n",
       "      <td>LERMA-SANTIAGO</td>\n",
       "      <td>188</td>\n",
       "      <td>1602 - MORELIA-QUERENDARO</td>\n",
       "      <td>6,000.00</td>\n",
       "    </tr>\n",
       "    <tr>\n",
       "      <th>4</th>\n",
       "      <td>71,351.00</td>\n",
       "      <td>-364,117.00</td>\n",
       "      <td>TARÍMBARO</td>\n",
       "      <td>LERMA-SANTIAGO</td>\n",
       "      <td>188</td>\n",
       "      <td>1602 - MORELIA-QUERENDARO</td>\n",
       "      <td>30,000.00</td>\n",
       "    </tr>\n",
       "  </tbody>\n",
       "</table>\n",
       "</div>"
      ],
      "text/plain": [
       "    Latitud    Longitud    Municipio RegiónHidrológica  Cuenca  \\\n",
       "0 71,916.00 -364,601.00  HUANDACAREO    LERMA-SANTIAGO     188   \n",
       "1 71,962.00 -364,590.00  HUANDACAREO    LERMA-SANTIAGO     188   \n",
       "2 72,142.00 -364,140.00      CUITZEO    LERMA-SANTIAGO     188   \n",
       "3 72,110.00 -364,178.00      CUITZEO    LERMA-SANTIAGO     188   \n",
       "4 71,351.00 -364,117.00    TARÍMBARO    LERMA-SANTIAGO     188   \n",
       "\n",
       "          AcuíferoHomologado  Volumen (m3/año)  \n",
       "0  1602 - MORELIA-QUERENDARO         22,800.00  \n",
       "1  1602 - MORELIA-QUERENDARO          9,000.00  \n",
       "2  1602 - MORELIA-QUERENDARO         20,020.00  \n",
       "3  1602 - MORELIA-QUERENDARO          6,000.00  \n",
       "4  1602 - MORELIA-QUERENDARO         30,000.00  "
      ]
     },
     "execution_count": 228,
     "metadata": {},
     "output_type": "execute_result"
    }
   ],
   "source": [
    "X.head()"
   ]
  },
  {
   "cell_type": "code",
   "execution_count": 229,
   "id": "13ca23a4-fc8d-4b56-8bed-5ebb812a92d1",
   "metadata": {},
   "outputs": [
    {
     "data": {
      "text/plain": [
       "0     AGRICOLA\n",
       "1     AGRICOLA\n",
       "2     AGRICOLA\n",
       "3     AGRICOLA\n",
       "4    SERVICIOS\n",
       "Name: Uso, dtype: string"
      ]
     },
     "execution_count": 229,
     "metadata": {},
     "output_type": "execute_result"
    }
   ],
   "source": [
    "y.head() "
   ]
  },
  {
   "cell_type": "markdown",
   "id": "81802be1-57b6-4ec3-bc44-5b7973200f1d",
   "metadata": {},
   "source": [
    "---\n",
    "\n",
    "## 4. Codificar los datos categóricos y escalar los que son numéricos (en la matriz $X$)."
   ]
  },
  {
   "cell_type": "code",
   "execution_count": 230,
   "id": "f5666c3d-561b-4a5c-a392-4bd9c5539ecb",
   "metadata": {},
   "outputs": [],
   "source": [
    "def codificar(data):\n",
    "    cat = []\n",
    "    num = []\n",
    "    \n",
    "    for i in data.columns:\n",
    "        if data[i].dtypes == 'string':\n",
    "            cat.append(i)\n",
    "        elif data[i].dtypes == 'float64' or 'int64':\n",
    "            num.append(i)\n",
    "            \n",
    "    scaler = MinMaxScaler() \n",
    "    scaled_values = scaler.fit_transform(data[num])\n",
    "    data[num] = scaled_values\n",
    "    \n",
    "    code = LabelEncoder()\n",
    "    data[cat] = data[cat].apply(code.fit_transform)\n",
    "    \n",
    "    print('Columnas numéricas escaladas', num)\n",
    "    print('Columnas categóricas codificadas:', cat)\n",
    "    \n",
    "    return data, scaler"
   ]
  },
  {
   "cell_type": "code",
   "execution_count": 231,
   "id": "a52e09be-5f6d-4b58-aa32-9da48c24cd16",
   "metadata": {},
   "outputs": [
    {
     "name": "stdout",
     "output_type": "stream",
     "text": [
      "Columnas numéricas escaladas ['Latitud', 'Longitud', 'Cuenca', 'Volumen (m3/año)']\n",
      "Columnas categóricas codificadas: ['Municipio', 'RegiónHidrológica', 'AcuíferoHomologado']\n"
     ]
    }
   ],
   "source": [
    "X_cod, scaler = codificar(X)"
   ]
  },
  {
   "cell_type": "code",
   "execution_count": 232,
   "id": "e5f56398-d8d0-4c42-a906-8f9dda899540",
   "metadata": {},
   "outputs": [
    {
     "data": {
      "text/html": [
       "<div>\n",
       "<style scoped>\n",
       "    .dataframe tbody tr th:only-of-type {\n",
       "        vertical-align: middle;\n",
       "    }\n",
       "\n",
       "    .dataframe tbody tr th {\n",
       "        vertical-align: top;\n",
       "    }\n",
       "\n",
       "    .dataframe thead th {\n",
       "        text-align: right;\n",
       "    }\n",
       "</style>\n",
       "<table border=\"1\" class=\"dataframe\">\n",
       "  <thead>\n",
       "    <tr style=\"text-align: right;\">\n",
       "      <th></th>\n",
       "      <th>Latitud</th>\n",
       "      <th>Longitud</th>\n",
       "      <th>Municipio</th>\n",
       "      <th>RegiónHidrológica</th>\n",
       "      <th>Cuenca</th>\n",
       "      <th>AcuíferoHomologado</th>\n",
       "      <th>Volumen (m3/año)</th>\n",
       "    </tr>\n",
       "  </thead>\n",
       "  <tbody>\n",
       "    <tr>\n",
       "      <th>0</th>\n",
       "      <td>0.35</td>\n",
       "      <td>0.74</td>\n",
       "      <td>7</td>\n",
       "      <td>1</td>\n",
       "      <td>1.00</td>\n",
       "      <td>0</td>\n",
       "      <td>0.00</td>\n",
       "    </tr>\n",
       "    <tr>\n",
       "      <th>1</th>\n",
       "      <td>0.35</td>\n",
       "      <td>0.74</td>\n",
       "      <td>7</td>\n",
       "      <td>1</td>\n",
       "      <td>1.00</td>\n",
       "      <td>0</td>\n",
       "      <td>0.00</td>\n",
       "    </tr>\n",
       "    <tr>\n",
       "      <th>2</th>\n",
       "      <td>0.37</td>\n",
       "      <td>0.79</td>\n",
       "      <td>5</td>\n",
       "      <td>1</td>\n",
       "      <td>1.00</td>\n",
       "      <td>0</td>\n",
       "      <td>0.00</td>\n",
       "    </tr>\n",
       "    <tr>\n",
       "      <th>3</th>\n",
       "      <td>0.36</td>\n",
       "      <td>0.78</td>\n",
       "      <td>5</td>\n",
       "      <td>1</td>\n",
       "      <td>1.00</td>\n",
       "      <td>0</td>\n",
       "      <td>0.00</td>\n",
       "    </tr>\n",
       "    <tr>\n",
       "      <th>4</th>\n",
       "      <td>0.30</td>\n",
       "      <td>0.79</td>\n",
       "      <td>18</td>\n",
       "      <td>1</td>\n",
       "      <td>1.00</td>\n",
       "      <td>0</td>\n",
       "      <td>0.00</td>\n",
       "    </tr>\n",
       "  </tbody>\n",
       "</table>\n",
       "</div>"
      ],
      "text/plain": [
       "   Latitud  Longitud  Municipio  RegiónHidrológica  Cuenca  \\\n",
       "0     0.35      0.74          7                  1    1.00   \n",
       "1     0.35      0.74          7                  1    1.00   \n",
       "2     0.37      0.79          5                  1    1.00   \n",
       "3     0.36      0.78          5                  1    1.00   \n",
       "4     0.30      0.79         18                  1    1.00   \n",
       "\n",
       "   AcuíferoHomologado  Volumen (m3/año)  \n",
       "0                   0              0.00  \n",
       "1                   0              0.00  \n",
       "2                   0              0.00  \n",
       "3                   0              0.00  \n",
       "4                   0              0.00  "
      ]
     },
     "execution_count": 232,
     "metadata": {},
     "output_type": "execute_result"
    }
   ],
   "source": [
    "X_cod.head()"
   ]
  },
  {
   "cell_type": "markdown",
   "id": "110214f5-80af-443a-9768-5347b4c8a88c",
   "metadata": {},
   "source": [
    "---\n",
    "\n",
    "## 5. Construir el modelo."
   ]
  },
  {
   "cell_type": "code",
   "execution_count": 233,
   "id": "3e0c613c-22b1-45a0-82c2-58f6b33e8703",
   "metadata": {},
   "outputs": [],
   "source": [
    "X_train, X_test, y_train, y_test = train_test_split(X_cod, y, test_size = 0.3, shuffle=True)"
   ]
  },
  {
   "cell_type": "code",
   "execution_count": 234,
   "id": "fb2c5528-2ef2-47de-b9bd-eebec802bf45",
   "metadata": {},
   "outputs": [
    {
     "name": "stdout",
     "output_type": "stream",
     "text": [
      "3.08 ms ± 79.2 µs per loop (mean ± std. dev. of 7 runs, 100 loops each)\n"
     ]
    }
   ],
   "source": [
    "knn = KNeighborsClassifier(n_neighbors=5, weights='uniform')\n",
    "%timeit knn.fit(X_train, y_train)"
   ]
  },
  {
   "cell_type": "code",
   "execution_count": 235,
   "id": "a34502e3-faf7-495d-acdf-79e5286507e1",
   "metadata": {},
   "outputs": [],
   "source": [
    "def prediction(model, X, y):\n",
    "    pred = model.predict(X)\n",
    "    y_pred = pd.Series(pred, index=y.index)\n",
    "    #modfique esta linea para guardarlo en una variable \n",
    "\n",
    "    \n",
    "    precision_knn = precision_score(y, y_pred, average='micro')\n",
    "    print('Precision = ', precision_knn)\n",
    "    print(classification_report(y, pred, zero_division=0))\n",
    "\n",
    "    cm = confusion_matrix(y, y_pred, labels=model.classes_)\n",
    "    disp = ConfusionMatrixDisplay(confusion_matrix=cm, display_labels=model.classes_)\n",
    "    disp.plot()\n",
    "    _ = plt.xticks(rotation='vertical')\n",
    "    plt.show()\n",
    "    \n",
    "    return y_pred"
   ]
  },
  {
   "cell_type": "code",
   "execution_count": 236,
   "id": "2bab48b4-615b-4350-8f5d-edb7e5879c51",
   "metadata": {},
   "outputs": [
    {
     "name": "stdout",
     "output_type": "stream",
     "text": [
      "Precision =  0.6601466992665037\n",
      "                 precision    recall  f1-score   support\n",
      "\n",
      "    ACUACULTURA       0.00      0.00      0.00         1\n",
      "       AGRICOLA       0.74      0.86      0.80       236\n",
      "DIFERENTES USOS       0.11      0.04      0.06        27\n",
      "      DOMESTICO       0.00      0.00      0.00         4\n",
      "     INDUSTRIAL       0.71      0.76      0.73        29\n",
      "       PECUARIO       0.00      0.00      0.00         4\n",
      " PUBLICO URBANO       0.54      0.48      0.51        85\n",
      "      SERVICIOS       0.15      0.09      0.11        23\n",
      "\n",
      "       accuracy                           0.66       409\n",
      "      macro avg       0.28      0.28      0.28       409\n",
      "   weighted avg       0.61      0.66      0.63       409\n",
      "\n"
     ]
    },
    {
     "data": {
      "image/png": "[encoded data removed]",
      "text/plain": [
       "<Figure size 640x480 with 2 Axes>"
      ]
     },
     "metadata": {},
     "output_type": "display_data"
    },
    {
     "name": "stdout",
     "output_type": "stream",
     "text": [
      "CPU times: total: 516 ms\n",
      "Wall time: 495 ms\n"
     ]
    }
   ],
   "source": [
    "%time y_pred = prediction(knn, X_test, y_test)"
   ]
  },
  {
   "cell_type": "code",
   "execution_count": 237,
   "id": "81dd356a-6855-4b50-9b18-29080d20cb68",
   "metadata": {},
   "outputs": [],
   "source": [
    "precision_first =  0.6601466992665037"
   ]
  },
  {
   "cell_type": "markdown",
   "id": "05be3440-8fd2-4a63-b475-f59d03609aeb",
   "metadata": {},
   "source": [
    "---\n",
    "\n",
    "## 6. Análisis del desempeño del modelo."
   ]
  },
  {
   "cell_type": "code",
   "execution_count": 238,
   "id": "3d4bebe5-fd3f-4097-866e-54fd6af92fd1",
   "metadata": {},
   "outputs": [
    {
     "name": "stdout",
     "output_type": "stream",
     "text": [
      "El número de aciertos sobre el conjunto de entrenamiento es: 270\n"
     ]
    }
   ],
   "source": [
    "print(f'El número de aciertos sobre el conjunto de entrenamiento es: {np.sum(y_test == y_pred)}')"
   ]
  },
  {
   "cell_type": "markdown",
   "id": "c01458fb-68e9-4063-93c9-93d13bb4ec66",
   "metadata": {},
   "source": [
    "### Obtener el **volumen total** correspondiente a los **aciertos**"
   ]
  },
  {
   "cell_type": "code",
   "execution_count": 239,
   "id": "cdb9e5f3-4a12-4599-bf7a-dcfb57df5c65",
   "metadata": {},
   "outputs": [
    {
     "name": "stdout",
     "output_type": "stream",
     "text": [
      "El volumen total de todos los títulos es: 212,405,314.47 metros cúbicos.\n"
     ]
    }
   ],
   "source": [
    "volumen_total = sum(pozos['Volumen (m3/año)'].values)\n",
    "print(f'El volumen total de todos los títulos es: {volumen_total:,.2f} metros cúbicos.')"
   ]
  },
  {
   "cell_type": "code",
   "execution_count": 240,
   "id": "6d0caf5b-75fd-4050-8865-05c1a4c51217",
   "metadata": {},
   "outputs": [
    {
     "data": {
      "text/html": [
       "<div>\n",
       "<style scoped>\n",
       "    .dataframe tbody tr th:only-of-type {\n",
       "        vertical-align: middle;\n",
       "    }\n",
       "\n",
       "    .dataframe tbody tr th {\n",
       "        vertical-align: top;\n",
       "    }\n",
       "\n",
       "    .dataframe thead th {\n",
       "        text-align: right;\n",
       "    }\n",
       "</style>\n",
       "<table border=\"1\" class=\"dataframe\">\n",
       "  <thead>\n",
       "    <tr style=\"text-align: right;\">\n",
       "      <th></th>\n",
       "      <th>Latitud</th>\n",
       "      <th>Longitud</th>\n",
       "      <th>Municipio</th>\n",
       "      <th>RegiónHidrológica</th>\n",
       "      <th>Cuenca</th>\n",
       "      <th>AcuíferoHomologado</th>\n",
       "      <th>Volumen (m3/año)</th>\n",
       "      <th>Uso</th>\n",
       "    </tr>\n",
       "  </thead>\n",
       "  <tbody>\n",
       "    <tr>\n",
       "      <th>0</th>\n",
       "      <td>71,916.00</td>\n",
       "      <td>-364,601.00</td>\n",
       "      <td>HUANDACAREO</td>\n",
       "      <td>LERMA-SANTIAGO</td>\n",
       "      <td>188</td>\n",
       "      <td>1602 - MORELIA-QUERENDARO</td>\n",
       "      <td>22,800.00</td>\n",
       "      <td>AGRICOLA</td>\n",
       "    </tr>\n",
       "    <tr>\n",
       "      <th>1</th>\n",
       "      <td>71,962.00</td>\n",
       "      <td>-364,590.00</td>\n",
       "      <td>HUANDACAREO</td>\n",
       "      <td>LERMA-SANTIAGO</td>\n",
       "      <td>188</td>\n",
       "      <td>1602 - MORELIA-QUERENDARO</td>\n",
       "      <td>9,000.00</td>\n",
       "      <td>AGRICOLA</td>\n",
       "    </tr>\n",
       "    <tr>\n",
       "      <th>2</th>\n",
       "      <td>72,142.00</td>\n",
       "      <td>-364,140.00</td>\n",
       "      <td>CUITZEO</td>\n",
       "      <td>LERMA-SANTIAGO</td>\n",
       "      <td>188</td>\n",
       "      <td>1602 - MORELIA-QUERENDARO</td>\n",
       "      <td>20,020.00</td>\n",
       "      <td>AGRICOLA</td>\n",
       "    </tr>\n",
       "    <tr>\n",
       "      <th>3</th>\n",
       "      <td>72,110.00</td>\n",
       "      <td>-364,178.00</td>\n",
       "      <td>CUITZEO</td>\n",
       "      <td>LERMA-SANTIAGO</td>\n",
       "      <td>188</td>\n",
       "      <td>1602 - MORELIA-QUERENDARO</td>\n",
       "      <td>6,000.00</td>\n",
       "      <td>AGRICOLA</td>\n",
       "    </tr>\n",
       "    <tr>\n",
       "      <th>4</th>\n",
       "      <td>71,351.00</td>\n",
       "      <td>-364,117.00</td>\n",
       "      <td>TARÍMBARO</td>\n",
       "      <td>LERMA-SANTIAGO</td>\n",
       "      <td>188</td>\n",
       "      <td>1602 - MORELIA-QUERENDARO</td>\n",
       "      <td>30,000.00</td>\n",
       "      <td>SERVICIOS</td>\n",
       "    </tr>\n",
       "  </tbody>\n",
       "</table>\n",
       "</div>"
      ],
      "text/plain": [
       "    Latitud    Longitud    Municipio RegiónHidrológica  Cuenca  \\\n",
       "0 71,916.00 -364,601.00  HUANDACAREO    LERMA-SANTIAGO     188   \n",
       "1 71,962.00 -364,590.00  HUANDACAREO    LERMA-SANTIAGO     188   \n",
       "2 72,142.00 -364,140.00      CUITZEO    LERMA-SANTIAGO     188   \n",
       "3 72,110.00 -364,178.00      CUITZEO    LERMA-SANTIAGO     188   \n",
       "4 71,351.00 -364,117.00    TARÍMBARO    LERMA-SANTIAGO     188   \n",
       "\n",
       "          AcuíferoHomologado  Volumen (m3/año)        Uso  \n",
       "0  1602 - MORELIA-QUERENDARO         22,800.00   AGRICOLA  \n",
       "1  1602 - MORELIA-QUERENDARO          9,000.00   AGRICOLA  \n",
       "2  1602 - MORELIA-QUERENDARO         20,020.00   AGRICOLA  \n",
       "3  1602 - MORELIA-QUERENDARO          6,000.00   AGRICOLA  \n",
       "4  1602 - MORELIA-QUERENDARO         30,000.00  SERVICIOS  "
      ]
     },
     "execution_count": 240,
     "metadata": {},
     "output_type": "execute_result"
    }
   ],
   "source": [
    "pozos.head()"
   ]
  },
  {
   "cell_type": "code",
   "execution_count": 241,
   "id": "6f1e8608-f985-42de-aa81-ac81711d9973",
   "metadata": {},
   "outputs": [],
   "source": [
    "def calc_vol_normalizado(data, y_test, y_pred, vol_total):\n",
    "    indices = (y_test == y_pred).index.values  # índices enteros de las predicciones acertadas\n",
    "    vol_normalizado = {}\n",
    "    \n",
    "    for i in indices:\n",
    "        vol_normalizado[i] = (data[[\"Uso\"]].iloc[i].to_numpy()[0],\n",
    "                            100.0 * (data[[\"Volumen (m3/año)\"]].iloc[i].to_numpy()[0]) / vol_total\n",
    "                           )\n",
    "\n",
    "    return pd.DataFrame.from_dict(data=vol_normalizado, orient='index',\n",
    "                                  columns=['Uso', 'Volumen normalizado'])"
   ]
  },
  {
   "cell_type": "code",
   "execution_count": 242,
   "id": "3d52e79e-0929-45d6-a0ce-2b7f6d1bf350",
   "metadata": {},
   "outputs": [],
   "source": [
    "volumen_normalizado = calc_vol_normalizado(pozos, y_test, y_pred, volumen_total)"
   ]
  },
  {
   "cell_type": "code",
   "execution_count": 243,
   "id": "eb28e0c8-8c37-4cb2-a45a-452c93cfdcfb",
   "metadata": {},
   "outputs": [
    {
     "data": {
      "text/html": [
       "<div>\n",
       "<style scoped>\n",
       "    .dataframe tbody tr th:only-of-type {\n",
       "        vertical-align: middle;\n",
       "    }\n",
       "\n",
       "    .dataframe tbody tr th {\n",
       "        vertical-align: top;\n",
       "    }\n",
       "\n",
       "    .dataframe thead th {\n",
       "        text-align: right;\n",
       "    }\n",
       "</style>\n",
       "<table border=\"1\" class=\"dataframe\">\n",
       "  <thead>\n",
       "    <tr style=\"text-align: right;\">\n",
       "      <th></th>\n",
       "      <th>Uso</th>\n",
       "      <th>Volumen normalizado</th>\n",
       "    </tr>\n",
       "  </thead>\n",
       "  <tbody>\n",
       "    <tr>\n",
       "      <th>63</th>\n",
       "      <td>AGRICOLA</td>\n",
       "      <td>0.47</td>\n",
       "    </tr>\n",
       "    <tr>\n",
       "      <th>1054</th>\n",
       "      <td>AGRICOLA</td>\n",
       "      <td>0.11</td>\n",
       "    </tr>\n",
       "    <tr>\n",
       "      <th>1008</th>\n",
       "      <td>PECUARIO</td>\n",
       "      <td>0.00</td>\n",
       "    </tr>\n",
       "    <tr>\n",
       "      <th>496</th>\n",
       "      <td>AGRICOLA</td>\n",
       "      <td>0.00</td>\n",
       "    </tr>\n",
       "    <tr>\n",
       "      <th>1192</th>\n",
       "      <td>AGRICOLA</td>\n",
       "      <td>0.01</td>\n",
       "    </tr>\n",
       "    <tr>\n",
       "      <th>825</th>\n",
       "      <td>INDUSTRIAL</td>\n",
       "      <td>0.15</td>\n",
       "    </tr>\n",
       "    <tr>\n",
       "      <th>905</th>\n",
       "      <td>AGRICOLA</td>\n",
       "      <td>0.11</td>\n",
       "    </tr>\n",
       "    <tr>\n",
       "      <th>564</th>\n",
       "      <td>AGRICOLA</td>\n",
       "      <td>0.00</td>\n",
       "    </tr>\n",
       "    <tr>\n",
       "      <th>31</th>\n",
       "      <td>AGRICOLA</td>\n",
       "      <td>0.01</td>\n",
       "    </tr>\n",
       "    <tr>\n",
       "      <th>420</th>\n",
       "      <td>AGRICOLA</td>\n",
       "      <td>0.06</td>\n",
       "    </tr>\n",
       "  </tbody>\n",
       "</table>\n",
       "</div>"
      ],
      "text/plain": [
       "             Uso  Volumen normalizado\n",
       "63      AGRICOLA                 0.47\n",
       "1054    AGRICOLA                 0.11\n",
       "1008    PECUARIO                 0.00\n",
       "496     AGRICOLA                 0.00\n",
       "1192    AGRICOLA                 0.01\n",
       "825   INDUSTRIAL                 0.15\n",
       "905     AGRICOLA                 0.11\n",
       "564     AGRICOLA                 0.00\n",
       "31      AGRICOLA                 0.01\n",
       "420     AGRICOLA                 0.06"
      ]
     },
     "execution_count": 243,
     "metadata": {},
     "output_type": "execute_result"
    }
   ],
   "source": [
    "volumen_normalizado.head(10)"
   ]
  },
  {
   "cell_type": "code",
   "execution_count": 244,
   "id": "26d0815a-6f59-4f3b-a633-bb7bab2bc4ae",
   "metadata": {},
   "outputs": [
    {
     "data": {
      "text/html": [
       "<div>\n",
       "<style scoped>\n",
       "    .dataframe tbody tr th:only-of-type {\n",
       "        vertical-align: middle;\n",
       "    }\n",
       "\n",
       "    .dataframe tbody tr th {\n",
       "        vertical-align: top;\n",
       "    }\n",
       "\n",
       "    .dataframe thead th {\n",
       "        text-align: right;\n",
       "    }\n",
       "</style>\n",
       "<table border=\"1\" class=\"dataframe\">\n",
       "  <thead>\n",
       "    <tr style=\"text-align: right;\">\n",
       "      <th></th>\n",
       "      <th>Volumen normalizado</th>\n",
       "    </tr>\n",
       "    <tr>\n",
       "      <th>Uso</th>\n",
       "      <th></th>\n",
       "    </tr>\n",
       "  </thead>\n",
       "  <tbody>\n",
       "    <tr>\n",
       "      <th>ACUACULTURA</th>\n",
       "      <td>0.01</td>\n",
       "    </tr>\n",
       "    <tr>\n",
       "      <th>AGRICOLA</th>\n",
       "      <td>15.33</td>\n",
       "    </tr>\n",
       "    <tr>\n",
       "      <th>DIFERENTES USOS</th>\n",
       "      <td>1.08</td>\n",
       "    </tr>\n",
       "    <tr>\n",
       "      <th>DOMESTICO</th>\n",
       "      <td>0.08</td>\n",
       "    </tr>\n",
       "    <tr>\n",
       "      <th>INDUSTRIAL</th>\n",
       "      <td>7.43</td>\n",
       "    </tr>\n",
       "    <tr>\n",
       "      <th>PECUARIO</th>\n",
       "      <td>0.02</td>\n",
       "    </tr>\n",
       "    <tr>\n",
       "      <th>PUBLICO URBANO</th>\n",
       "      <td>6.12</td>\n",
       "    </tr>\n",
       "    <tr>\n",
       "      <th>SERVICIOS</th>\n",
       "      <td>0.97</td>\n",
       "    </tr>\n",
       "  </tbody>\n",
       "</table>\n",
       "</div>"
      ],
      "text/plain": [
       "                 Volumen normalizado\n",
       "Uso                                 \n",
       "ACUACULTURA                     0.01\n",
       "AGRICOLA                       15.33\n",
       "DIFERENTES USOS                 1.08\n",
       "DOMESTICO                       0.08\n",
       "INDUSTRIAL                      7.43\n",
       "PECUARIO                        0.02\n",
       "PUBLICO URBANO                  6.12\n",
       "SERVICIOS                       0.97"
      ]
     },
     "execution_count": 244,
     "metadata": {},
     "output_type": "execute_result"
    }
   ],
   "source": [
    "aciertos_vol_norm_por_uso = volumen_normalizado.groupby('Uso').sum()\n",
    "aciertos_vol_norm_por_uso"
   ]
  },
  {
   "cell_type": "code",
   "execution_count": 245,
   "id": "0717210b-b359-47dc-9362-3e8a4aba7979",
   "metadata": {},
   "outputs": [
    {
     "data": {
      "text/plain": [
       "Volumen normalizado   31.04\n",
       "dtype: float64"
      ]
     },
     "execution_count": 245,
     "metadata": {},
     "output_type": "execute_result"
    }
   ],
   "source": [
    "aciertos_vol_norm_por_uso.sum()  # volumen total de los 'aciertos' (normalizado)"
   ]
  },
  {
   "cell_type": "markdown",
   "id": "57650e48-7f52-4849-bbda-5387219818ed",
   "metadata": {},
   "source": [
    "### El volumen correspondiente a los aciertos del modelo (considerando $5$ vecinos) es de: 31.21% "
   ]
  },
  {
   "cell_type": "markdown",
   "id": "70975de4-1769-4422-aa50-2a7fd513e9cd",
   "metadata": {},
   "source": [
    "---\n",
    "\n",
    "## Obtener el volumen por uso"
   ]
  },
  {
   "cell_type": "code",
   "execution_count": 246,
   "id": "e6f36168-b7ad-4bc9-bba1-6449cd2db20e",
   "metadata": {},
   "outputs": [
    {
     "data": {
      "text/plain": [
       "Uso\n",
       "ACUACULTURA           45,000.00\n",
       "AGRICOLA          91,725,771.79\n",
       "AGROINDUSTRIAL        40,000.00\n",
       "DIFERENTES USOS    5,866,832.32\n",
       "DOMESTICO          1,354,190.77\n",
       "INDUSTRIAL        60,461,754.00\n",
       "PECUARIO             195,005.00\n",
       "PUBLICO URBANO    47,014,568.69\n",
       "SERVICIOS          5,702,191.90\n",
       "Name: Volumen (m3/año), dtype: float64"
      ]
     },
     "execution_count": 246,
     "metadata": {},
     "output_type": "execute_result"
    }
   ],
   "source": [
    "vol_por_uso_total = pozos.groupby('Uso').sum()\n",
    "vol_por_uso_total = vol_por_uso_total['Volumen (m3/año)']\n",
    "vol_por_uso_total"
   ]
  },
  {
   "cell_type": "code",
   "execution_count": 247,
   "id": "2f3e8c99-0668-489e-993f-903704a07d84",
   "metadata": {
    "tags": []
   },
   "outputs": [
    {
     "data": {
      "text/html": [
       "<div>\n",
       "<style scoped>\n",
       "    .dataframe tbody tr th:only-of-type {\n",
       "        vertical-align: middle;\n",
       "    }\n",
       "\n",
       "    .dataframe tbody tr th {\n",
       "        vertical-align: top;\n",
       "    }\n",
       "\n",
       "    .dataframe thead th {\n",
       "        text-align: right;\n",
       "    }\n",
       "</style>\n",
       "<table border=\"1\" class=\"dataframe\">\n",
       "  <thead>\n",
       "    <tr style=\"text-align: right;\">\n",
       "      <th></th>\n",
       "      <th>Volumen normalizado</th>\n",
       "    </tr>\n",
       "    <tr>\n",
       "      <th>Uso</th>\n",
       "      <th></th>\n",
       "    </tr>\n",
       "  </thead>\n",
       "  <tbody>\n",
       "    <tr>\n",
       "      <th>ACUACULTURA</th>\n",
       "      <td>0.01</td>\n",
       "    </tr>\n",
       "    <tr>\n",
       "      <th>AGRICOLA</th>\n",
       "      <td>15.33</td>\n",
       "    </tr>\n",
       "    <tr>\n",
       "      <th>DIFERENTES USOS</th>\n",
       "      <td>1.08</td>\n",
       "    </tr>\n",
       "    <tr>\n",
       "      <th>DOMESTICO</th>\n",
       "      <td>0.08</td>\n",
       "    </tr>\n",
       "    <tr>\n",
       "      <th>INDUSTRIAL</th>\n",
       "      <td>7.43</td>\n",
       "    </tr>\n",
       "    <tr>\n",
       "      <th>PECUARIO</th>\n",
       "      <td>0.02</td>\n",
       "    </tr>\n",
       "    <tr>\n",
       "      <th>PUBLICO URBANO</th>\n",
       "      <td>6.12</td>\n",
       "    </tr>\n",
       "    <tr>\n",
       "      <th>SERVICIOS</th>\n",
       "      <td>0.97</td>\n",
       "    </tr>\n",
       "  </tbody>\n",
       "</table>\n",
       "</div>"
      ],
      "text/plain": [
       "                 Volumen normalizado\n",
       "Uso                                 \n",
       "ACUACULTURA                     0.01\n",
       "AGRICOLA                       15.33\n",
       "DIFERENTES USOS                 1.08\n",
       "DOMESTICO                       0.08\n",
       "INDUSTRIAL                      7.43\n",
       "PECUARIO                        0.02\n",
       "PUBLICO URBANO                  6.12\n",
       "SERVICIOS                       0.97"
      ]
     },
     "execution_count": 247,
     "metadata": {},
     "output_type": "execute_result"
    }
   ],
   "source": [
    "aciertos_vol_norm_por_uso"
   ]
  },
  {
   "cell_type": "code",
   "execution_count": 248,
   "id": "3c874024-5e16-418b-b73f-80ac58f900f6",
   "metadata": {
    "tags": []
   },
   "outputs": [
    {
     "data": {
      "text/html": [
       "<div>\n",
       "<style scoped>\n",
       "    .dataframe tbody tr th:only-of-type {\n",
       "        vertical-align: middle;\n",
       "    }\n",
       "\n",
       "    .dataframe tbody tr th {\n",
       "        vertical-align: top;\n",
       "    }\n",
       "\n",
       "    .dataframe thead th {\n",
       "        text-align: right;\n",
       "    }\n",
       "</style>\n",
       "<table border=\"1\" class=\"dataframe\">\n",
       "  <thead>\n",
       "    <tr style=\"text-align: right;\">\n",
       "      <th></th>\n",
       "      <th>Volumen normalizado por uso (%)</th>\n",
       "      <th>Volumen TOTAL por uso (m3/año)</th>\n",
       "      <th>Volumen por uso (m3/año)</th>\n",
       "    </tr>\n",
       "    <tr>\n",
       "      <th>Uso</th>\n",
       "      <th></th>\n",
       "      <th></th>\n",
       "      <th></th>\n",
       "    </tr>\n",
       "  </thead>\n",
       "  <tbody>\n",
       "    <tr>\n",
       "      <th>ACUACULTURA</th>\n",
       "      <td>0.01</td>\n",
       "      <td>45,000.00</td>\n",
       "      <td>3.18</td>\n",
       "    </tr>\n",
       "    <tr>\n",
       "      <th>AGRICOLA</th>\n",
       "      <td>15.33</td>\n",
       "      <td>91,725,771.79</td>\n",
       "      <td>14,058,521.26</td>\n",
       "    </tr>\n",
       "    <tr>\n",
       "      <th>DIFERENTES USOS</th>\n",
       "      <td>1.08</td>\n",
       "      <td>5,866,832.32</td>\n",
       "      <td>63,605.14</td>\n",
       "    </tr>\n",
       "    <tr>\n",
       "      <th>DOMESTICO</th>\n",
       "      <td>0.08</td>\n",
       "      <td>1,354,190.77</td>\n",
       "      <td>1,137.46</td>\n",
       "    </tr>\n",
       "    <tr>\n",
       "      <th>INDUSTRIAL</th>\n",
       "      <td>7.43</td>\n",
       "      <td>60,461,754.00</td>\n",
       "      <td>4,490,304.97</td>\n",
       "    </tr>\n",
       "    <tr>\n",
       "      <th>PECUARIO</th>\n",
       "      <td>0.02</td>\n",
       "      <td>195,005.00</td>\n",
       "      <td>44.70</td>\n",
       "    </tr>\n",
       "    <tr>\n",
       "      <th>PUBLICO URBANO</th>\n",
       "      <td>6.12</td>\n",
       "      <td>47,014,568.69</td>\n",
       "      <td>2,877,663.90</td>\n",
       "    </tr>\n",
       "    <tr>\n",
       "      <th>SERVICIOS</th>\n",
       "      <td>0.97</td>\n",
       "      <td>5,702,191.90</td>\n",
       "      <td>55,305.11</td>\n",
       "    </tr>\n",
       "  </tbody>\n",
       "</table>\n",
       "</div>"
      ],
      "text/plain": [
       "                 Volumen normalizado por uso (%)  \\\n",
       "Uso                                                \n",
       "ACUACULTURA                                 0.01   \n",
       "AGRICOLA                                   15.33   \n",
       "DIFERENTES USOS                             1.08   \n",
       "DOMESTICO                                   0.08   \n",
       "INDUSTRIAL                                  7.43   \n",
       "PECUARIO                                    0.02   \n",
       "PUBLICO URBANO                              6.12   \n",
       "SERVICIOS                                   0.97   \n",
       "\n",
       "                 Volumen TOTAL por uso (m3/año)  Volumen por uso (m3/año)  \n",
       "Uso                                                                        \n",
       "ACUACULTURA                           45,000.00                      3.18  \n",
       "AGRICOLA                          91,725,771.79             14,058,521.26  \n",
       "DIFERENTES USOS                    5,866,832.32                 63,605.14  \n",
       "DOMESTICO                          1,354,190.77                  1,137.46  \n",
       "INDUSTRIAL                        60,461,754.00              4,490,304.97  \n",
       "PECUARIO                             195,005.00                     44.70  \n",
       "PUBLICO URBANO                    47,014,568.69              2,877,663.90  \n",
       "SERVICIOS                          5,702,191.90                 55,305.11  "
      ]
     },
     "execution_count": 248,
     "metadata": {},
     "output_type": "execute_result"
    }
   ],
   "source": [
    "df = aciertos_vol_norm_por_uso.merge(vol_por_uso_total, how='inner', on='Uso')\n",
    "df.columns = ['Volumen normalizado por uso (%)', 'Volumen TOTAL por uso (m3/año)']\n",
    "df['Volumen por uso (m3/año)'] = df['Volumen normalizado por uso (%)'] * df['Volumen TOTAL por uso (m3/año)'] / 100.0\n",
    "\n",
    "# Suppress scientific notation\n",
    "pd.options.display.float_format = '{:,.2f}'.format\n",
    "df"
   ]
  },
  {
   "cell_type": "markdown",
   "id": "df893eed-fd27-40b3-8adc-0387e536ceec",
   "metadata": {},
   "source": [
    "## 7. Encontrar el valor _óptimo_ de $k$"
   ]
  },
  {
   "cell_type": "code",
   "execution_count": 249,
   "id": "3640fc58-4c1a-46cb-9fa4-152878fce326",
   "metadata": {},
   "outputs": [
    {
     "data": {
      "image/png": "[encoded data removed]",
      "text/plain": [
       "<Figure size 640x480 with 1 Axes>"
      ]
     },
     "metadata": {},
     "output_type": "display_data"
    }
   ],
   "source": [
    "k_range = range(2, 25)\n",
    "scores = []\n",
    "\n",
    "for k in k_range:\n",
    "    knn = KNeighborsClassifier(n_neighbors = k)\n",
    "    knn.fit(X_train, y_train)\n",
    "    pred1=knn.predict(X_train)\n",
    "    scores.append(precision_score(y_train, pred1, average='micro'))\n",
    "    \n",
    "_ = plt.scatter(k_range, scores)\n",
    "_ = plt.xlabel('k')\n",
    "_ = plt.ylabel('Precision')\n",
    "_ = plt.grid()\n",
    "_ = plt.xticks([0,5,10,15,20])\n",
    "_ = plt.yticks([0, 0.25, 0.5, 0.75, 1])"
   ]
  },
  {
   "cell_type": "markdown",
   "id": "1f6ee703-1685-490a-8470-13781ae63417",
   "metadata": {},
   "source": [
    "> A patir de $k = 15$, la precisión empieza a oscilar."
   ]
  },
  {
   "cell_type": "code",
   "execution_count": 250,
   "id": "a3fdd830-fbaa-40ff-b3ae-c2143438aa7e",
   "metadata": {},
   "outputs": [
    {
     "name": "stdout",
     "output_type": "stream",
     "text": [
      "Precision =  0.6772616136919315\n",
      "                 precision    recall  f1-score   support\n",
      "\n",
      "    ACUACULTURA       0.00      0.00      0.00         1\n",
      "       AGRICOLA       0.77      0.84      0.80       236\n",
      "DIFERENTES USOS       0.00      0.00      0.00        27\n",
      "      DOMESTICO       0.00      0.00      0.00         4\n",
      "     INDUSTRIAL       0.67      0.83      0.74        29\n",
      "       PECUARIO       0.00      0.00      0.00         4\n",
      " PUBLICO URBANO       0.53      0.59      0.56        85\n",
      "      SERVICIOS       0.42      0.22      0.29        23\n",
      "\n",
      "       accuracy                           0.68       409\n",
      "      macro avg       0.30      0.31      0.30       409\n",
      "   weighted avg       0.63      0.68      0.65       409\n",
      "\n"
     ]
    },
    {
     "data": {
      "image/png": "[encoded data removed]",
      "text/plain": [
       "<Figure size 640x480 with 2 Axes>"
      ]
     },
     "metadata": {},
     "output_type": "display_data"
    },
    {
     "name": "stdout",
     "output_type": "stream",
     "text": [
      "Precisión del modelo knn_k: 0.6772616136919315\n"
     ]
    }
   ],
   "source": [
    "# Entrenar el modelo knn_k\n",
    "knn_k = KNeighborsClassifier(n_neighbors=15, weights='distance')\n",
    "knn_k.fit(X_train, y_train)\n",
    "\n",
    "# Realizar predicciones y calcular la precisión\n",
    "y_pred_k = prediction(knn_k, X_test, y_test)\n",
    "precision_knn_k = precision_score(y_test, y_pred_k, average='micro')\n",
    "\n",
    "# Imprimir la precisión\n",
    "print(\"Precisión del modelo knn_k:\", precision_knn_k)"
   ]
  },
  {
   "cell_type": "code",
   "execution_count": 251,
   "id": "45175d31-6b9b-4232-a239-87aa5250899a",
   "metadata": {},
   "outputs": [],
   "source": [
    "precision_segundo=  0.6772616136919315"
   ]
  },
  {
   "cell_type": "code",
   "execution_count": 252,
   "id": "5db7a373-97ca-414d-aea5-85c4e14529aa",
   "metadata": {},
   "outputs": [
    {
     "name": "stdout",
     "output_type": "stream",
     "text": [
      "El número de aciertos es: 277\n"
     ]
    }
   ],
   "source": [
    "print(f'El número de aciertos es: {np.sum(y_test == y_pred_k)}')"
   ]
  },
  {
   "cell_type": "code",
   "execution_count": 253,
   "id": "7a5c789d-d45f-4695-b22a-b7acf6add480",
   "metadata": {},
   "outputs": [],
   "source": [
    "na_uno = 270\n",
    "na_dos = 277"
   ]
  },
  {
   "cell_type": "code",
   "execution_count": 254,
   "id": "09da2517-deaf-4004-a28a-41e9d3a9069b",
   "metadata": {},
   "outputs": [
    {
     "data": {
      "image/png": "[encoded data removed]",
      "text/plain": [
       "<Figure size 640x480 with 1 Axes>"
      ]
     },
     "metadata": {},
     "output_type": "display_data"
    }
   ],
   "source": [
    "# Gráfica para el primer método (k_range)\n",
    "_ = plt.plot(k_range, scores, marker='o', label='k_range')\n",
    "_ = plt.xlabel('k')\n",
    "_ = plt.ylabel('Precision')\n",
    "_ = plt.title('Precisión vs. k para el primer método')\n",
    "_ = plt.xticks([0, 5, 10, 15, 20])\n",
    "_ = plt.yticks([0, 0.25, 0.5, 0.75, 1])\n",
    "_ = plt.legend()"
   ]
  },
  {
   "cell_type": "code",
   "execution_count": 255,
   "id": "47e6f7ed-8994-47fa-b932-8810d4d17998",
   "metadata": {},
   "outputs": [
    {
     "name": "stderr",
     "output_type": "stream",
     "text": [
      "C:\\Users\\Karla\\anaconda3\\envs\\ML\\Lib\\site-packages\\sklearn\\model_selection\\_split.py:684: UserWarning: The least populated class in y has only 1 members, which is less than n_splits=10.\n",
      "  warnings.warn(\n"
     ]
    },
    {
     "name": "stdout",
     "output_type": "stream",
     "text": [
      "Mejor valor de k: {'n_neighbors': 6}\n",
      "Mejor precisión encontrada: 0.6824342105263158\n"
     ]
    }
   ],
   "source": [
    "from sklearn.model_selection import GridSearchCV\n",
    "\n",
    "# Definir los conjuntos de entrenamiento y prueba\n",
    "X_train, X_test, y_train, y_test = train_test_split(X_cod, y, test_size=0.3, random_state=42)\n",
    "\n",
    "# Definir el rango de valores de k que queremos probar\n",
    "k_range = list(range(1, 31))\n",
    "\n",
    "# Crear un diccionario de parámetros del modelo\n",
    "param_grid = dict(n_neighbors=k_range)\n",
    "\n",
    "# Instanciar el modelo k-NN\n",
    "knn = KNeighborsClassifier()\n",
    "\n",
    "# Instanciar GridSearchCV\n",
    "grid = GridSearchCV(knn, param_grid, cv=10, scoring='accuracy')\n",
    "\n",
    "# Ajustar GridSearchCV al conjunto de entrenamiento\n",
    "grid.fit(X_train, y_train)\n",
    "\n",
    "# Mostrar los resultados\n",
    "print(\"Mejor valor de k:\", grid.best_params_)\n",
    "print(\"Mejor precisión encontrada:\", grid.best_score_)\n"
   ]
  },
  {
   "cell_type": "code",
   "execution_count": 256,
   "id": "840a1597-f91a-4bfe-b68e-1a5d3994d55a",
   "metadata": {},
   "outputs": [
    {
     "name": "stdout",
     "output_type": "stream",
     "text": [
      "Precisión en el conjunto de prueba: 0.6625916870415648\n",
      "El número de aciertos es: 271\n",
      "Precision =  0.6625916870415648\n",
      "                 precision    recall  f1-score   support\n",
      "\n",
      "    ACUACULTURA       0.00      0.00      0.00         1\n",
      "       AGRICOLA       0.71      0.92      0.81       220\n",
      " AGROINDUSTRIAL       0.00      0.00      0.00         1\n",
      "DIFERENTES USOS       0.00      0.00      0.00        38\n",
      "      DOMESTICO       0.00      0.00      0.00         3\n",
      "     INDUSTRIAL       0.73      0.73      0.73        37\n",
      "       PECUARIO       0.00      0.00      0.00         4\n",
      " PUBLICO URBANO       0.53      0.48      0.51        83\n",
      "      SERVICIOS       0.10      0.05      0.06        22\n",
      "\n",
      "       accuracy                           0.66       409\n",
      "      macro avg       0.23      0.24      0.23       409\n",
      "   weighted avg       0.56      0.66      0.61       409\n",
      "\n"
     ]
    },
    {
     "data": {
      "image/png": "[encoded data removed]",
      "text/plain": [
       "<Figure size 640x480 with 2 Axes>"
      ]
     },
     "metadata": {},
     "output_type": "display_data"
    },
    {
     "name": "stdout",
     "output_type": "stream",
     "text": [
      "Tabla de predicciones:\n",
      "428           AGRICOLA\n",
      "930           AGRICOLA\n",
      "781           AGRICOLA\n",
      "451           AGRICOLA\n",
      "429    DIFERENTES USOS\n",
      "            ...       \n",
      "485           AGRICOLA\n",
      "462     PUBLICO URBANO\n",
      "693           AGRICOLA\n",
      "922           AGRICOLA\n",
      "398     PUBLICO URBANO\n",
      "Length: 409, dtype: object\n"
     ]
    }
   ],
   "source": [
    "# Definir el modelo KNN con el mejor valor de k encontrado por GridSearchCV\n",
    "knn_best = KNeighborsClassifier(n_neighbors=6)\n",
    "\n",
    "# Ajustar el modelo al conjunto de entrenamiento\n",
    "knn_best.fit(X_train, y_train)\n",
    "\n",
    "# Predecir las etiquetas en el conjunto de prueba\n",
    "y_pred_best = knn_best.predict(X_test)\n",
    "\n",
    "# Calcular la precisión en el conjunto de prueba\n",
    "precision_best = accuracy_score(y_test, y_pred_best)\n",
    "print(\"Precisión en el conjunto de prueba:\", precision_best)\n",
    "\n",
    "# Imprimir el número de aciertos\n",
    "print(f'El número de aciertos es: {np.sum(y_test == y_pred_best)}')\n",
    "\n",
    "# Imprimir la tabla de predicciones\n",
    "y_pred_table_best = prediction(knn_best, X_test, y_test)\n",
    "print(\"Tabla de predicciones:\")\n",
    "print(y_pred_table_best)\n"
   ]
  },
  {
   "cell_type": "code",
   "execution_count": 257,
   "id": "9911dc63-ee5e-4664-9323-6aec0ed8d00b",
   "metadata": {},
   "outputs": [],
   "source": [
    "precision_tres = 0.6625916870415648 \n",
    "na_tres =  271"
   ]
  },
  {
   "cell_type": "code",
   "execution_count": 258,
   "id": "abe7a8db-ceb4-47e3-9414-11cfe88193f8",
   "metadata": {},
   "outputs": [
    {
     "data": {
      "image/png": "[encoded data removed]",
      "text/plain": [
       "<Figure size 640x480 with 1 Axes>"
      ]
     },
     "metadata": {},
     "output_type": "display_data"
    }
   ],
   "source": [
    "\n",
    "# Gráfica para el segundo método (GridSearchCV)\n",
    "_ = plt.axhline(grid.best_score_, color='r', linestyle='--', label='GridSearchCV')\n",
    "_ = plt.xlabel('k')\n",
    "_ = plt.ylabel('Precision')\n",
    "_ = plt.title('Precisión vs. k para GridSearchCV')\n",
    "_ = plt.legend()\n"
   ]
  },
  {
   "cell_type": "code",
   "execution_count": 259,
   "id": "b7563e04-8eab-4ea8-ab02-518eba6f5cf9",
   "metadata": {},
   "outputs": [
    {
     "name": "stdout",
     "output_type": "stream",
     "text": [
      "           Modelo  Precisión  Número de Aciertos\n",
      "0   Primer Modelo       0.66                 270\n",
      "1  Segundo Modelo       0.68                 277\n",
      "2   Tercer Modelo       0.66                 271\n"
     ]
    }
   ],
   "source": [
    "import pandas as pd\n",
    "\n",
    "# Crear un diccionario con los datos\n",
    "data = {\n",
    "    'Modelo': ['Primer Modelo', 'Segundo Modelo', 'Tercer Modelo'],\n",
    "    'Precisión': [precision_first, precision_segundo, precision_tres],\n",
    "    'Número de Aciertos': [na_uno, na_dos, na_tres]\n",
    "}\n",
    "\n",
    "# Crear un DataFrame a partir del diccionario\n",
    "df = pd.DataFrame(data)\n",
    "\n",
    "# Mostrar el DataFrame\n",
    "print(df)"
   ]
  },
  {
   "cell_type": "code",
   "execution_count": 265,
   "id": "1bed4ef7-a764-4991-8d93-3ee2277dfd13",
   "metadata": {},
   "outputs": [
    {
     "data": {
      "image/png": "[encoded data removed]",
      "text/plain": [
       "<Figure size 800x600 with 1 Axes>"
      ]
     },
     "metadata": {},
     "output_type": "display_data"
    }
   ],
   "source": [
    "import matplotlib.pyplot as plt\n",
    "\n",
    "# Definir los nombres de los modelos\n",
    "modelos = ['Primer Modelo', 'Segundo Modelo', 'Tercer Modelo']\n",
    "\n",
    "# Definir los valores de precisión\n",
    "precisiones = [precision_first, precision_segundo, precision_tres]\n",
    "\n",
    "# Crear la gráfica de barras\n",
    "plt.figure(figsize=(8, 6))\n",
    "plt.bar(modelos, precisiones, color='skyblue')\n",
    "\n",
    "# Añadir etiquetas y título\n",
    "plt.xlabel('Modelo')\n",
    "plt.ylabel('Precisión')\n",
    "plt.title('Comparación de Precisión entre Modelos')\n",
    "plt.ylim(0,0.70 )  # Establecer el rango del eje y\n",
    "\n",
    "# Mostrar la gráfica\n",
    "plt.show()\n",
    "\n"
   ]
  },
  {
   "cell_type": "markdown",
   "id": "888f2cd2-8d41-4386-85f8-d6be2ee24151",
   "metadata": {},
   "source": [
    "## <span style=\"color:DarkciónBlue\"> 4. Conclusiones</span>\n",
    "\n",
    "### Análisis de Resultados:\n",
    "Basándonos en los resultados presentados en la tabla:\n",
    "\n",
    "Primer Modelo:\n",
    "\n",
    "Precisión: 0.66\n",
    "Número de Aciertos: 270\n",
    "\n",
    "Segundo Modelo:\n",
    "\n",
    "Precisión: 0.68\n",
    "Número de Aciertos: 277\n",
    "\n",
    "Tercer Modelo:\n",
    "\n",
    "Precisión: 0.66\n",
    "Número de Aciertos: 271\n",
    "\n",
    "Podemos hacer las siguientes conclusiones:\n",
    "\n",
    "El segundo modelo tiene la mayor precisión con un valor de 0.68 y también tiene el mayor número de aciertos, con un total de 277. Aunque el tercer modelo tiene una precisión similar de 0.66, tuvo menos aciertos en comparación con el segundo modelo, con un total de 271. El primer modelo tiene una precisión ligeramente menor de 0.66 y el menor número de aciertos, con un total de 270. En este caso podemos concluir que el mejor modelo es el segundo donde el numero de vecinos es de 15 vecinos aunque tambien pueden haber varios factores que los influyan como lo son el rango del gridsearch\n"
   ]
  },
  {
   "cell_type": "markdown",
   "id": "37661c8d-95df-4c5c-b215-453a308febba",
   "metadata": {},
   "source": [
    "## <span style=\"color:DarkciónBlue\"> 5. Referencias</span>\n",
    "### Documentos consultados \n",
    "[1] \"GridSearchCV.\" scikit-learn. https://scikit-learn.org/stable/modules/generated/sklearn.model_selection.GridSearchCV.html (accessed Apr. 07, 2024).\r\n",
    "\n"
   ]
  },
  {
   "cell_type": "code",
   "execution_count": null,
   "id": "f8f0ebad-fb1a-49d5-a9d7-f4baceb68370",
   "metadata": {},
   "outputs": [],
   "source": []
  }
 ],
 "metadata": {
  "kernelspec": {
   "display_name": "Python 3 (ipykernel)",
   "language": "python",
   "name": "python3"
  },
  "language_info": {
   "codemirror_mode": {
    "name": "ipython",
    "version": 3
   },
   "file_extension": ".py",
   "mimetype": "text/x-python",
   "name": "python",
   "nbconvert_exporter": "python",
   "pygments_lexer": "ipython3",
   "version": "3.11.8"
  }
 },
 "nbformat": 4,
 "nbformat_minor": 5
}
